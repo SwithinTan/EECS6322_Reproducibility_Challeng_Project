{
  "nbformat": 4,
  "nbformat_minor": 0,
  "metadata": {
    "colab": {
      "provenance": []
    },
    "kernelspec": {
      "name": "python3",
      "display_name": "Python 3"
    },
    "language_info": {
      "name": "python"
    },
    "accelerator": "GPU",
    "gpuClass": "standard"
  },
  "cells": [
    {
      "cell_type": "code",
      "source": [
        "import gdown"
      ],
      "metadata": {
        "id": "D_5Ltk9v4sNk"
      },
      "execution_count": 1,
      "outputs": []
    },
    {
      "cell_type": "markdown",
      "source": [
        "# Download the saved models from pth files"
      ],
      "metadata": {
        "id": "QXfhPMLc5Ecc"
      }
    },
    {
      "cell_type": "code",
      "execution_count": 2,
      "metadata": {
        "colab": {
          "base_uri": "https://localhost:8080/"
        },
        "id": "82byzn5F4nbq",
        "outputId": "c692022a-da52-4ac5-f658-9a33e2bb4498"
      },
      "outputs": [
        {
          "output_type": "stream",
          "name": "stdout",
          "text": [
            "Downloading...\n",
            "From: https://drive.google.com/uc?id=1wFB32vUF3ZuesxYZdfEyVtk-nvpYgKFO\n",
            "To: /content/models.zip\n",
            "100% 5.10G/5.10G [01:40<00:00, 50.7MB/s]\n"
          ]
        }
      ],
      "source": [
        "!gdown 1wFB32vUF3ZuesxYZdfEyVtk-nvpYgKFO"
      ]
    },
    {
      "cell_type": "code",
      "source": [
        "!unzip ./models.zip -d ./models"
      ],
      "metadata": {
        "colab": {
          "base_uri": "https://localhost:8080/"
        },
        "id": "I80rdK6c5NZM",
        "outputId": "a434cd64-4ac2-4dc8-a76c-5d7a8c341e93"
      },
      "execution_count": 3,
      "outputs": [
        {
          "output_type": "stream",
          "name": "stdout",
          "text": [
            "Archive:  ./models.zip\n",
            "   creating: ./models/models/\n",
            "  inflating: ./models/__MACOSX/._models  \n",
            "   creating: ./models/models/20_datasets/\n",
            "   creating: ./models/models/new_dataset/\n",
            "   creating: ./models/models/20_classes/\n",
            "   creating: ./models/models/16_datasets/\n",
            "   creating: ./models/models/4_datasets/\n",
            "   creating: ./models/models/dct/\n",
            "   creating: ./models/models/8_datasets/\n",
            "   creating: ./models/models/2_datasets/\n",
            "   creating: ./models/models/20_datasets/gaussian/\n",
            "   creating: ./models/models/20_datasets/blur_jpeg_1/\n",
            "   creating: ./models/models/20_datasets/no_aug/\n",
            "   creating: ./models/models/20_datasets/jpeg/\n",
            "   creating: ./models/models/20_datasets/blur_jpeg_5/\n",
            "   creating: ./models/models/new_dataset/progan2/\n",
            "   creating: ./models/models/new_dataset/stylegan2/\n",
            "   creating: ./models/models/20_classes/gaussian/\n",
            "   creating: ./models/models/20_classes/blur_jpeg_1/\n",
            "   creating: ./models/models/20_classes/no_aug/\n",
            "   creating: ./models/models/20_classes/jpeg/\n",
            "   creating: ./models/models/20_classes/blur_jpeg_5/\n",
            "   creating: ./models/models/16_datasets/no_aug/\n",
            "   creating: ./models/models/16_datasets/blur_jpeg_5/\n",
            "   creating: ./models/models/4_datasets/no_aug/\n",
            "   creating: ./models/models/4_datasets/blur_jpeg_5/\n",
            "   creating: ./models/models/dct/gaussian/\n",
            "   creating: ./models/models/dct/no_aug/\n",
            "   creating: ./models/models/dct/jpeg/\n",
            "   creating: ./models/models/dct/blur_jpeg_5/\n",
            "   creating: ./models/models/8_datasets/gaussian/\n",
            "   creating: ./models/models/8_datasets/blur_jpeg_1/\n",
            "   creating: ./models/models/8_datasets/no_aug/\n",
            "   creating: ./models/models/8_datasets/jpeg/\n",
            "   creating: ./models/models/8_datasets/blur_jpeg_5/\n",
            "   creating: ./models/models/2_datasets/no_aug/\n",
            "   creating: ./models/models/2_datasets/blur_jpeg_5/\n",
            "   creating: ./models/models/20_datasets/gaussian/resnet50/\n",
            "   creating: ./models/models/20_datasets/blur_jpeg_1/resnet50/\n",
            "   creating: ./models/models/20_datasets/no_aug/resnet50/\n",
            "   creating: ./models/models/20_datasets/jpeg/resnet50/\n",
            "   creating: ./models/models/20_datasets/blur_jpeg_5/resnet50/\n",
            "   creating: ./models/models/new_dataset/progan2/None_datasets/\n",
            "   creating: ./models/models/new_dataset/progan2/20_classes/\n",
            "   creating: ./models/models/new_dataset/stylegan2/None_datasets/\n",
            "   creating: ./models/models/new_dataset/stylegan2/20_classes /\n",
            "   creating: ./models/models/20_classes/gaussian/resnet50/\n",
            "   creating: ./models/models/20_classes/blur_jpeg_1/resnet50/\n",
            "   creating: ./models/models/20_classes/no_aug/resnet50/\n",
            "   creating: ./models/models/20_classes/jpeg/resnet50/\n",
            "   creating: ./models/models/20_classes/blur_jpeg_5/resnet50/\n",
            "   creating: ./models/models/16_datasets/no_aug/resnet50/\n",
            "   creating: ./models/models/16_datasets/blur_jpeg_5/resnet50/\n",
            "   creating: ./models/models/4_datasets/no_aug/resnet50/\n",
            "   creating: ./models/models/4_datasets/blur_jpeg_5/resnet50/\n",
            "  inflating: ./models/models/dct/gaussian/checkpoint.pth  \n",
            "  inflating: ./models/models/dct/no_aug/checkpoint.pth  \n",
            "  inflating: ./models/models/dct/jpeg/checkpoint.pth  \n",
            "  inflating: ./models/models/dct/blur_jpeg_5/checkpoint.pth  \n",
            "   creating: ./models/models/8_datasets/gaussian/resnet50/\n",
            "   creating: ./models/models/8_datasets/gaussian/vgg11_bn/\n",
            "   creating: ./models/models/8_datasets/gaussian/resnet18/\n",
            "   creating: ./models/models/8_datasets/no_aug/resnet50/\n",
            "   creating: ./models/models/8_datasets/no_aug/vgg11_bn/\n",
            "   creating: ./models/models/8_datasets/no_aug/resnet18/\n",
            "   creating: ./models/models/8_datasets/jpeg/resnet50/\n",
            "   creating: ./models/models/8_datasets/jpeg/vgg11_bn/\n",
            "   creating: ./models/models/8_datasets/jpeg/resnet18/\n",
            "   creating: ./models/models/8_datasets/blur_jpeg_5/resnet50/\n",
            "   creating: ./models/models/8_datasets/blur_jpeg_5/vgg11_bn/\n",
            "   creating: ./models/models/8_datasets/blur_jpeg_5/resnet18/\n",
            "   creating: ./models/models/8_datasets/blur_jpeg_5/vgg11/\n",
            "   creating: ./models/models/2_datasets/no_aug/resnet50/\n",
            "   creating: ./models/models/2_datasets/blur_jpeg_5/resnet50/\n",
            "  inflating: ./models/models/20_datasets/gaussian/resnet50/checkpoint.pth  \n",
            "  inflating: ./models/models/20_datasets/blur_jpeg_1/resnet50/checkpoint.pth  \n",
            "  inflating: ./models/models/20_datasets/no_aug/resnet50/checkpoint.pth  \n",
            "  inflating: ./models/models/20_datasets/jpeg/resnet50/checkpoint.pth  \n",
            "  inflating: ./models/models/20_datasets/blur_jpeg_5/resnet50/checkpoint.pth  \n",
            "   creating: ./models/models/new_dataset/progan2/None_datasets/gaussian/\n",
            "   creating: ./models/models/new_dataset/progan2/None_datasets/blur_jpeg_1/\n",
            "   creating: ./models/models/new_dataset/progan2/None_datasets/no_aug/\n",
            "   creating: ./models/models/new_dataset/progan2/None_datasets/jpeg/\n",
            "   creating: ./models/models/new_dataset/progan2/None_datasets/blur_jpeg_5/\n",
            "   creating: ./models/models/new_dataset/progan2/20_classes/gaussian/\n",
            "   creating: ./models/models/new_dataset/progan2/20_classes/blur_jpeg_1/\n",
            "   creating: ./models/models/new_dataset/progan2/20_classes/no_aug/\n",
            "   creating: ./models/models/new_dataset/progan2/20_classes/jpeg/\n",
            "   creating: ./models/models/new_dataset/progan2/20_classes/blur_jpeg_5/\n",
            "   creating: ./models/models/new_dataset/stylegan2/None_datasets/gaussian/\n",
            "   creating: ./models/models/new_dataset/stylegan2/None_datasets/blur_jpeg_1/\n",
            "   creating: ./models/models/new_dataset/stylegan2/None_datasets/no_aug/\n",
            "   creating: ./models/models/new_dataset/stylegan2/None_datasets/jpeg/\n",
            "   creating: ./models/models/new_dataset/stylegan2/None_datasets/blur_jpeg_5/\n",
            "   creating: ./models/models/new_dataset/stylegan2/20_classes /gaussian/\n",
            "   creating: ./models/models/new_dataset/stylegan2/20_classes /blur_jpeg_1/\n",
            "   creating: ./models/models/new_dataset/stylegan2/20_classes /no_aug/\n",
            "   creating: ./models/models/new_dataset/stylegan2/20_classes /jpeg/\n",
            "   creating: ./models/models/new_dataset/stylegan2/20_classes /blur_jpeg_5/\n",
            "  inflating: ./models/models/16_datasets/no_aug/resnet50/checkpoint.pth  \n",
            "  inflating: ./models/models/16_datasets/blur_jpeg_5/resnet50/checkpoint.pth  \n",
            "  inflating: ./models/models/4_datasets/no_aug/resnet50/checkpoint.pth  \n",
            "  inflating: ./models/models/4_datasets/blur_jpeg_5/resnet50/checkpoint.pth  \n",
            "  inflating: ./models/models/8_datasets/gaussian/resnet50/checkpoint.pth  \n",
            "  inflating: ./models/models/8_datasets/gaussian/vgg11_bn/checkpoint.pth  \n",
            "  inflating: ./models/models/8_datasets/gaussian/resnet18/checkpoint.pth  \n",
            "  inflating: ./models/models/8_datasets/no_aug/resnet50/checkpoint.pth  \n",
            "  inflating: ./models/models/8_datasets/no_aug/vgg11_bn/checkpoint.pth  \n",
            "  inflating: ./models/models/8_datasets/no_aug/resnet18/checkpoint.pth  \n",
            "  inflating: ./models/models/8_datasets/jpeg/resnet50/checkpoint.pth  \n",
            "  inflating: ./models/models/8_datasets/jpeg/vgg11_bn/checkpoint.pth  \n",
            "  inflating: ./models/models/8_datasets/jpeg/resnet18/checkpoint.pth  \n",
            "  inflating: ./models/models/8_datasets/blur_jpeg_5/resnet50/checkpoint.pth  \n",
            "  inflating: ./models/models/8_datasets/blur_jpeg_5/vgg11_bn/checkpoint.pth  \n",
            "  inflating: ./models/models/8_datasets/blur_jpeg_5/resnet18/checkpoint.pth  \n",
            "  inflating: ./models/models/8_datasets/blur_jpeg_5/vgg11/checkpoint.pth  \n",
            "  inflating: ./models/models/2_datasets/no_aug/resnet50/checkpoint.pth  \n",
            "  inflating: ./models/models/2_datasets/blur_jpeg_5/resnet50/checkpoint.pth  \n",
            "   creating: ./models/models/new_dataset/progan2/None_datasets/gaussian/resnet50/\n",
            "   creating: ./models/models/new_dataset/progan2/None_datasets/blur_jpeg_1/resnet50/\n",
            "   creating: ./models/models/new_dataset/progan2/None_datasets/no_aug/resnet50/\n",
            "   creating: ./models/models/new_dataset/progan2/None_datasets/jpeg/resnet50/\n",
            "   creating: ./models/models/new_dataset/progan2/None_datasets/blur_jpeg_5/resnet50/\n",
            "   creating: ./models/models/new_dataset/progan2/20_classes/gaussian/resnet50/\n",
            "   creating: ./models/models/new_dataset/progan2/20_classes/blur_jpeg_1/resnet50/\n",
            "   creating: ./models/models/new_dataset/progan2/20_classes/no_aug/resnet50/\n",
            "   creating: ./models/models/new_dataset/progan2/20_classes/jpeg/resnet50/\n",
            "   creating: ./models/models/new_dataset/progan2/20_classes/blur_jpeg_5/resnet50/\n",
            "   creating: ./models/models/new_dataset/stylegan2/None_datasets/gaussian/resnet50/\n",
            "   creating: ./models/models/new_dataset/stylegan2/None_datasets/blur_jpeg_1/resnet50/\n",
            "   creating: ./models/models/new_dataset/stylegan2/None_datasets/no_aug/resnet50/\n",
            "   creating: ./models/models/new_dataset/stylegan2/None_datasets/jpeg/resnet50/\n",
            "   creating: ./models/models/new_dataset/stylegan2/None_datasets/blur_jpeg_5/resnet50/\n",
            "   creating: ./models/models/new_dataset/stylegan2/20_classes /gaussian/resnet50/\n",
            "   creating: ./models/models/new_dataset/stylegan2/20_classes /blur_jpeg_1/resnet50/\n",
            "   creating: ./models/models/new_dataset/stylegan2/20_classes /no_aug/resnet50/\n",
            "   creating: ./models/models/new_dataset/stylegan2/20_classes /jpeg/resnet50/\n",
            "   creating: ./models/models/new_dataset/stylegan2/20_classes /blur_jpeg_5/resnet50/\n",
            "  inflating: ./models/models/new_dataset/progan2/None_datasets/gaussian/resnet50/checkpoint.pth  \n",
            "  inflating: ./models/models/new_dataset/progan2/None_datasets/blur_jpeg_1/resnet50/checkpoint.pth  \n",
            "  inflating: ./models/models/new_dataset/progan2/None_datasets/no_aug/resnet50/checkpoint.pth  \n",
            "  inflating: ./models/models/new_dataset/progan2/None_datasets/jpeg/resnet50/checkpoint.pth  \n",
            "  inflating: ./models/models/new_dataset/progan2/None_datasets/blur_jpeg_5/resnet50/checkpoint.pth  \n",
            "  inflating: ./models/models/new_dataset/stylegan2/None_datasets/gaussian/resnet50/checkpoint.pth  \n",
            "  inflating: ./models/models/new_dataset/stylegan2/None_datasets/blur_jpeg_1/resnet50/checkpoint.pth  \n",
            "  inflating: ./models/models/new_dataset/stylegan2/None_datasets/no_aug/resnet50/checkpoint.pth  \n",
            "  inflating: ./models/models/new_dataset/stylegan2/None_datasets/jpeg/resnet50/checkpoint.pth  \n",
            "  inflating: ./models/models/new_dataset/stylegan2/None_datasets/blur_jpeg_5/resnet50/checkpoint.pth  \n"
          ]
        }
      ]
    },
    {
      "cell_type": "code",
      "source": [
        "!git clone https://github.com/Joool/ReproducabilityCNNEasyToSpot.git"
      ],
      "metadata": {
        "colab": {
          "base_uri": "https://localhost:8080/"
        },
        "id": "MYDdn_PEdgEN",
        "outputId": "b610c7b0-34ce-415e-80a8-e7618f01cd17"
      },
      "execution_count": 10,
      "outputs": [
        {
          "output_type": "stream",
          "name": "stdout",
          "text": [
            "Cloning into 'ReproducabilityCNNEasyToSpot'...\n",
            "remote: Enumerating objects: 247, done.\u001b[K\n",
            "remote: Counting objects: 100% (247/247), done.\u001b[K\n",
            "remote: Compressing objects: 100% (246/246), done.\u001b[K\n",
            "remote: Total 247 (delta 10), reused 225 (delta 0), pack-reused 0\u001b[K\n",
            "Receiving objects: 100% (247/247), 2.24 MiB | 32.27 MiB/s, done.\n",
            "Resolving deltas: 100% (10/10), done.\n"
          ]
        }
      ]
    },
    {
      "cell_type": "code",
      "source": [
        "import gandetect\n",
        "!pip install torch_dct"
      ],
      "metadata": {
        "colab": {
          "base_uri": "https://localhost:8080/"
        },
        "id": "EqmNcFbFePJb",
        "outputId": "33d291a4-737e-4918-fd76-5af348a38db0"
      },
      "execution_count": 21,
      "outputs": [
        {
          "output_type": "stream",
          "name": "stdout",
          "text": [
            "Looking in indexes: https://pypi.org/simple, https://us-python.pkg.dev/colab-wheels/public/simple/\n",
            "Requirement already satisfied: torch_dct in /usr/local/lib/python3.9/dist-packages (0.1.6)\n",
            "Requirement already satisfied: torch>=0.4.1 in /usr/local/lib/python3.9/dist-packages (from torch_dct) (2.0.0+cu118)\n",
            "Requirement already satisfied: filelock in /usr/local/lib/python3.9/dist-packages (from torch>=0.4.1->torch_dct) (3.10.7)\n",
            "Requirement already satisfied: triton==2.0.0 in /usr/local/lib/python3.9/dist-packages (from torch>=0.4.1->torch_dct) (2.0.0)\n",
            "Requirement already satisfied: jinja2 in /usr/local/lib/python3.9/dist-packages (from torch>=0.4.1->torch_dct) (3.1.2)\n",
            "Requirement already satisfied: sympy in /usr/local/lib/python3.9/dist-packages (from torch>=0.4.1->torch_dct) (1.11.1)\n",
            "Requirement already satisfied: networkx in /usr/local/lib/python3.9/dist-packages (from torch>=0.4.1->torch_dct) (3.0)\n",
            "Requirement already satisfied: typing-extensions in /usr/local/lib/python3.9/dist-packages (from torch>=0.4.1->torch_dct) (4.5.0)\n",
            "Requirement already satisfied: cmake in /usr/local/lib/python3.9/dist-packages (from triton==2.0.0->torch>=0.4.1->torch_dct) (3.25.2)\n",
            "Requirement already satisfied: lit in /usr/local/lib/python3.9/dist-packages (from triton==2.0.0->torch>=0.4.1->torch_dct) (16.0.0)\n",
            "Requirement already satisfied: MarkupSafe>=2.0 in /usr/local/lib/python3.9/dist-packages (from jinja2->torch>=0.4.1->torch_dct) (2.1.2)\n",
            "Requirement already satisfied: mpmath>=0.19 in /usr/local/lib/python3.9/dist-packages (from sympy->torch>=0.4.1->torch_dct) (1.3.0)\n"
          ]
        }
      ]
    },
    {
      "cell_type": "code",
      "source": [
        "%cd ../content"
      ],
      "metadata": {
        "colab": {
          "base_uri": "https://localhost:8080/"
        },
        "id": "U4wTJp1SfqUB",
        "outputId": "108ea9bb-ff09-4fb9-bfba-e9b9d1b20b75"
      },
      "execution_count": 20,
      "outputs": [
        {
          "output_type": "stream",
          "name": "stdout",
          "text": [
            "/content\n"
          ]
        }
      ]
    },
    {
      "cell_type": "code",
      "source": [
        "import torch\n",
        "import gandetect\n",
        "# Load the saved model from file\n",
        "all_data_jpeg = torch.load('/content/models/models/20_datasets/jpeg/resnet50/checkpoint.pth')\n",
        "# all_data_no_aug = torch.load()\n",
        "# all_data_gaussian = torch.load()\n",
        "# all_data_blur_jpeg_1 = \n",
        "# all_data_blur_jpeg_5 = \n"
      ],
      "metadata": {
        "id": "k3QcczOU8YtB"
      },
      "execution_count": 22,
      "outputs": []
    },
    {
      "cell_type": "code",
      "source": [
        "all_data_jpeg"
      ],
      "metadata": {
        "id": "blIu4eKn92De",
        "colab": {
          "base_uri": "https://localhost:8080/"
        },
        "outputId": "8c3f87ea-37d7-4ea7-a1d3-aadbed0a58ce"
      },
      "execution_count": 23,
      "outputs": [
        {
          "output_type": "execute_result",
          "data": {
            "text/plain": [
              "DataParallel(\n",
              "  (module): ResNet(\n",
              "    (resnet): ResNet(\n",
              "      (conv1): Conv2d(3, 64, kernel_size=(7, 7), stride=(2, 2), padding=(3, 3), bias=False)\n",
              "      (bn1): BatchNorm2d(64, eps=1e-05, momentum=0.1, affine=True, track_running_stats=True)\n",
              "      (relu): ReLU(inplace=True)\n",
              "      (maxpool): MaxPool2d(kernel_size=3, stride=2, padding=1, dilation=1, ceil_mode=False)\n",
              "      (layer1): Sequential(\n",
              "        (0): Bottleneck(\n",
              "          (conv1): Conv2d(64, 64, kernel_size=(1, 1), stride=(1, 1), bias=False)\n",
              "          (bn1): BatchNorm2d(64, eps=1e-05, momentum=0.1, affine=True, track_running_stats=True)\n",
              "          (conv2): Conv2d(64, 64, kernel_size=(3, 3), stride=(1, 1), padding=(1, 1), bias=False)\n",
              "          (bn2): BatchNorm2d(64, eps=1e-05, momentum=0.1, affine=True, track_running_stats=True)\n",
              "          (conv3): Conv2d(64, 256, kernel_size=(1, 1), stride=(1, 1), bias=False)\n",
              "          (bn3): BatchNorm2d(256, eps=1e-05, momentum=0.1, affine=True, track_running_stats=True)\n",
              "          (relu): ReLU(inplace=True)\n",
              "          (downsample): Sequential(\n",
              "            (0): Conv2d(64, 256, kernel_size=(1, 1), stride=(1, 1), bias=False)\n",
              "            (1): BatchNorm2d(256, eps=1e-05, momentum=0.1, affine=True, track_running_stats=True)\n",
              "          )\n",
              "        )\n",
              "        (1): Bottleneck(\n",
              "          (conv1): Conv2d(256, 64, kernel_size=(1, 1), stride=(1, 1), bias=False)\n",
              "          (bn1): BatchNorm2d(64, eps=1e-05, momentum=0.1, affine=True, track_running_stats=True)\n",
              "          (conv2): Conv2d(64, 64, kernel_size=(3, 3), stride=(1, 1), padding=(1, 1), bias=False)\n",
              "          (bn2): BatchNorm2d(64, eps=1e-05, momentum=0.1, affine=True, track_running_stats=True)\n",
              "          (conv3): Conv2d(64, 256, kernel_size=(1, 1), stride=(1, 1), bias=False)\n",
              "          (bn3): BatchNorm2d(256, eps=1e-05, momentum=0.1, affine=True, track_running_stats=True)\n",
              "          (relu): ReLU(inplace=True)\n",
              "        )\n",
              "        (2): Bottleneck(\n",
              "          (conv1): Conv2d(256, 64, kernel_size=(1, 1), stride=(1, 1), bias=False)\n",
              "          (bn1): BatchNorm2d(64, eps=1e-05, momentum=0.1, affine=True, track_running_stats=True)\n",
              "          (conv2): Conv2d(64, 64, kernel_size=(3, 3), stride=(1, 1), padding=(1, 1), bias=False)\n",
              "          (bn2): BatchNorm2d(64, eps=1e-05, momentum=0.1, affine=True, track_running_stats=True)\n",
              "          (conv3): Conv2d(64, 256, kernel_size=(1, 1), stride=(1, 1), bias=False)\n",
              "          (bn3): BatchNorm2d(256, eps=1e-05, momentum=0.1, affine=True, track_running_stats=True)\n",
              "          (relu): ReLU(inplace=True)\n",
              "        )\n",
              "      )\n",
              "      (layer2): Sequential(\n",
              "        (0): Bottleneck(\n",
              "          (conv1): Conv2d(256, 128, kernel_size=(1, 1), stride=(1, 1), bias=False)\n",
              "          (bn1): BatchNorm2d(128, eps=1e-05, momentum=0.1, affine=True, track_running_stats=True)\n",
              "          (conv2): Conv2d(128, 128, kernel_size=(3, 3), stride=(2, 2), padding=(1, 1), bias=False)\n",
              "          (bn2): BatchNorm2d(128, eps=1e-05, momentum=0.1, affine=True, track_running_stats=True)\n",
              "          (conv3): Conv2d(128, 512, kernel_size=(1, 1), stride=(1, 1), bias=False)\n",
              "          (bn3): BatchNorm2d(512, eps=1e-05, momentum=0.1, affine=True, track_running_stats=True)\n",
              "          (relu): ReLU(inplace=True)\n",
              "          (downsample): Sequential(\n",
              "            (0): Conv2d(256, 512, kernel_size=(1, 1), stride=(2, 2), bias=False)\n",
              "            (1): BatchNorm2d(512, eps=1e-05, momentum=0.1, affine=True, track_running_stats=True)\n",
              "          )\n",
              "        )\n",
              "        (1): Bottleneck(\n",
              "          (conv1): Conv2d(512, 128, kernel_size=(1, 1), stride=(1, 1), bias=False)\n",
              "          (bn1): BatchNorm2d(128, eps=1e-05, momentum=0.1, affine=True, track_running_stats=True)\n",
              "          (conv2): Conv2d(128, 128, kernel_size=(3, 3), stride=(1, 1), padding=(1, 1), bias=False)\n",
              "          (bn2): BatchNorm2d(128, eps=1e-05, momentum=0.1, affine=True, track_running_stats=True)\n",
              "          (conv3): Conv2d(128, 512, kernel_size=(1, 1), stride=(1, 1), bias=False)\n",
              "          (bn3): BatchNorm2d(512, eps=1e-05, momentum=0.1, affine=True, track_running_stats=True)\n",
              "          (relu): ReLU(inplace=True)\n",
              "        )\n",
              "        (2): Bottleneck(\n",
              "          (conv1): Conv2d(512, 128, kernel_size=(1, 1), stride=(1, 1), bias=False)\n",
              "          (bn1): BatchNorm2d(128, eps=1e-05, momentum=0.1, affine=True, track_running_stats=True)\n",
              "          (conv2): Conv2d(128, 128, kernel_size=(3, 3), stride=(1, 1), padding=(1, 1), bias=False)\n",
              "          (bn2): BatchNorm2d(128, eps=1e-05, momentum=0.1, affine=True, track_running_stats=True)\n",
              "          (conv3): Conv2d(128, 512, kernel_size=(1, 1), stride=(1, 1), bias=False)\n",
              "          (bn3): BatchNorm2d(512, eps=1e-05, momentum=0.1, affine=True, track_running_stats=True)\n",
              "          (relu): ReLU(inplace=True)\n",
              "        )\n",
              "        (3): Bottleneck(\n",
              "          (conv1): Conv2d(512, 128, kernel_size=(1, 1), stride=(1, 1), bias=False)\n",
              "          (bn1): BatchNorm2d(128, eps=1e-05, momentum=0.1, affine=True, track_running_stats=True)\n",
              "          (conv2): Conv2d(128, 128, kernel_size=(3, 3), stride=(1, 1), padding=(1, 1), bias=False)\n",
              "          (bn2): BatchNorm2d(128, eps=1e-05, momentum=0.1, affine=True, track_running_stats=True)\n",
              "          (conv3): Conv2d(128, 512, kernel_size=(1, 1), stride=(1, 1), bias=False)\n",
              "          (bn3): BatchNorm2d(512, eps=1e-05, momentum=0.1, affine=True, track_running_stats=True)\n",
              "          (relu): ReLU(inplace=True)\n",
              "        )\n",
              "      )\n",
              "      (layer3): Sequential(\n",
              "        (0): Bottleneck(\n",
              "          (conv1): Conv2d(512, 256, kernel_size=(1, 1), stride=(1, 1), bias=False)\n",
              "          (bn1): BatchNorm2d(256, eps=1e-05, momentum=0.1, affine=True, track_running_stats=True)\n",
              "          (conv2): Conv2d(256, 256, kernel_size=(3, 3), stride=(2, 2), padding=(1, 1), bias=False)\n",
              "          (bn2): BatchNorm2d(256, eps=1e-05, momentum=0.1, affine=True, track_running_stats=True)\n",
              "          (conv3): Conv2d(256, 1024, kernel_size=(1, 1), stride=(1, 1), bias=False)\n",
              "          (bn3): BatchNorm2d(1024, eps=1e-05, momentum=0.1, affine=True, track_running_stats=True)\n",
              "          (relu): ReLU(inplace=True)\n",
              "          (downsample): Sequential(\n",
              "            (0): Conv2d(512, 1024, kernel_size=(1, 1), stride=(2, 2), bias=False)\n",
              "            (1): BatchNorm2d(1024, eps=1e-05, momentum=0.1, affine=True, track_running_stats=True)\n",
              "          )\n",
              "        )\n",
              "        (1): Bottleneck(\n",
              "          (conv1): Conv2d(1024, 256, kernel_size=(1, 1), stride=(1, 1), bias=False)\n",
              "          (bn1): BatchNorm2d(256, eps=1e-05, momentum=0.1, affine=True, track_running_stats=True)\n",
              "          (conv2): Conv2d(256, 256, kernel_size=(3, 3), stride=(1, 1), padding=(1, 1), bias=False)\n",
              "          (bn2): BatchNorm2d(256, eps=1e-05, momentum=0.1, affine=True, track_running_stats=True)\n",
              "          (conv3): Conv2d(256, 1024, kernel_size=(1, 1), stride=(1, 1), bias=False)\n",
              "          (bn3): BatchNorm2d(1024, eps=1e-05, momentum=0.1, affine=True, track_running_stats=True)\n",
              "          (relu): ReLU(inplace=True)\n",
              "        )\n",
              "        (2): Bottleneck(\n",
              "          (conv1): Conv2d(1024, 256, kernel_size=(1, 1), stride=(1, 1), bias=False)\n",
              "          (bn1): BatchNorm2d(256, eps=1e-05, momentum=0.1, affine=True, track_running_stats=True)\n",
              "          (conv2): Conv2d(256, 256, kernel_size=(3, 3), stride=(1, 1), padding=(1, 1), bias=False)\n",
              "          (bn2): BatchNorm2d(256, eps=1e-05, momentum=0.1, affine=True, track_running_stats=True)\n",
              "          (conv3): Conv2d(256, 1024, kernel_size=(1, 1), stride=(1, 1), bias=False)\n",
              "          (bn3): BatchNorm2d(1024, eps=1e-05, momentum=0.1, affine=True, track_running_stats=True)\n",
              "          (relu): ReLU(inplace=True)\n",
              "        )\n",
              "        (3): Bottleneck(\n",
              "          (conv1): Conv2d(1024, 256, kernel_size=(1, 1), stride=(1, 1), bias=False)\n",
              "          (bn1): BatchNorm2d(256, eps=1e-05, momentum=0.1, affine=True, track_running_stats=True)\n",
              "          (conv2): Conv2d(256, 256, kernel_size=(3, 3), stride=(1, 1), padding=(1, 1), bias=False)\n",
              "          (bn2): BatchNorm2d(256, eps=1e-05, momentum=0.1, affine=True, track_running_stats=True)\n",
              "          (conv3): Conv2d(256, 1024, kernel_size=(1, 1), stride=(1, 1), bias=False)\n",
              "          (bn3): BatchNorm2d(1024, eps=1e-05, momentum=0.1, affine=True, track_running_stats=True)\n",
              "          (relu): ReLU(inplace=True)\n",
              "        )\n",
              "        (4): Bottleneck(\n",
              "          (conv1): Conv2d(1024, 256, kernel_size=(1, 1), stride=(1, 1), bias=False)\n",
              "          (bn1): BatchNorm2d(256, eps=1e-05, momentum=0.1, affine=True, track_running_stats=True)\n",
              "          (conv2): Conv2d(256, 256, kernel_size=(3, 3), stride=(1, 1), padding=(1, 1), bias=False)\n",
              "          (bn2): BatchNorm2d(256, eps=1e-05, momentum=0.1, affine=True, track_running_stats=True)\n",
              "          (conv3): Conv2d(256, 1024, kernel_size=(1, 1), stride=(1, 1), bias=False)\n",
              "          (bn3): BatchNorm2d(1024, eps=1e-05, momentum=0.1, affine=True, track_running_stats=True)\n",
              "          (relu): ReLU(inplace=True)\n",
              "        )\n",
              "        (5): Bottleneck(\n",
              "          (conv1): Conv2d(1024, 256, kernel_size=(1, 1), stride=(1, 1), bias=False)\n",
              "          (bn1): BatchNorm2d(256, eps=1e-05, momentum=0.1, affine=True, track_running_stats=True)\n",
              "          (conv2): Conv2d(256, 256, kernel_size=(3, 3), stride=(1, 1), padding=(1, 1), bias=False)\n",
              "          (bn2): BatchNorm2d(256, eps=1e-05, momentum=0.1, affine=True, track_running_stats=True)\n",
              "          (conv3): Conv2d(256, 1024, kernel_size=(1, 1), stride=(1, 1), bias=False)\n",
              "          (bn3): BatchNorm2d(1024, eps=1e-05, momentum=0.1, affine=True, track_running_stats=True)\n",
              "          (relu): ReLU(inplace=True)\n",
              "        )\n",
              "      )\n",
              "      (layer4): Sequential(\n",
              "        (0): Bottleneck(\n",
              "          (conv1): Conv2d(1024, 512, kernel_size=(1, 1), stride=(1, 1), bias=False)\n",
              "          (bn1): BatchNorm2d(512, eps=1e-05, momentum=0.1, affine=True, track_running_stats=True)\n",
              "          (conv2): Conv2d(512, 512, kernel_size=(3, 3), stride=(2, 2), padding=(1, 1), bias=False)\n",
              "          (bn2): BatchNorm2d(512, eps=1e-05, momentum=0.1, affine=True, track_running_stats=True)\n",
              "          (conv3): Conv2d(512, 2048, kernel_size=(1, 1), stride=(1, 1), bias=False)\n",
              "          (bn3): BatchNorm2d(2048, eps=1e-05, momentum=0.1, affine=True, track_running_stats=True)\n",
              "          (relu): ReLU(inplace=True)\n",
              "          (downsample): Sequential(\n",
              "            (0): Conv2d(1024, 2048, kernel_size=(1, 1), stride=(2, 2), bias=False)\n",
              "            (1): BatchNorm2d(2048, eps=1e-05, momentum=0.1, affine=True, track_running_stats=True)\n",
              "          )\n",
              "        )\n",
              "        (1): Bottleneck(\n",
              "          (conv1): Conv2d(2048, 512, kernel_size=(1, 1), stride=(1, 1), bias=False)\n",
              "          (bn1): BatchNorm2d(512, eps=1e-05, momentum=0.1, affine=True, track_running_stats=True)\n",
              "          (conv2): Conv2d(512, 512, kernel_size=(3, 3), stride=(1, 1), padding=(1, 1), bias=False)\n",
              "          (bn2): BatchNorm2d(512, eps=1e-05, momentum=0.1, affine=True, track_running_stats=True)\n",
              "          (conv3): Conv2d(512, 2048, kernel_size=(1, 1), stride=(1, 1), bias=False)\n",
              "          (bn3): BatchNorm2d(2048, eps=1e-05, momentum=0.1, affine=True, track_running_stats=True)\n",
              "          (relu): ReLU(inplace=True)\n",
              "        )\n",
              "        (2): Bottleneck(\n",
              "          (conv1): Conv2d(2048, 512, kernel_size=(1, 1), stride=(1, 1), bias=False)\n",
              "          (bn1): BatchNorm2d(512, eps=1e-05, momentum=0.1, affine=True, track_running_stats=True)\n",
              "          (conv2): Conv2d(512, 512, kernel_size=(3, 3), stride=(1, 1), padding=(1, 1), bias=False)\n",
              "          (bn2): BatchNorm2d(512, eps=1e-05, momentum=0.1, affine=True, track_running_stats=True)\n",
              "          (conv3): Conv2d(512, 2048, kernel_size=(1, 1), stride=(1, 1), bias=False)\n",
              "          (bn3): BatchNorm2d(2048, eps=1e-05, momentum=0.1, affine=True, track_running_stats=True)\n",
              "          (relu): ReLU(inplace=True)\n",
              "        )\n",
              "      )\n",
              "      (avgpool): AdaptiveAvgPool2d(output_size=(1, 1))\n",
              "      (fc): Linear(in_features=2048, out_features=1, bias=True)\n",
              "    )\n",
              "  )\n",
              ")"
            ]
          },
          "metadata": {},
          "execution_count": 23
        }
      ]
    },
    {
      "cell_type": "code",
      "source": [],
      "metadata": {
        "id": "eCVkPzLkgD-s"
      },
      "execution_count": null,
      "outputs": []
    }
  ]
}