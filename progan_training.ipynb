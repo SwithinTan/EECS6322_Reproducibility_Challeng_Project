{
  "nbformat": 4,
  "nbformat_minor": 0,
  "metadata": {
    "colab": {
      "provenance": []
    },
    "kernelspec": {
      "name": "python3",
      "display_name": "Python 3"
    },
    "language_info": {
      "name": "python"
    },
    "accelerator": "GPU",
    "gpuClass": "standard"
  },
  "cells": [
    {
      "cell_type": "markdown",
      "source": [
        "# Training & Validation Dataset download"
      ],
      "metadata": {
        "id": "lBWYjOtRi7kt"
      }
    },
    {
      "cell_type": "code",
      "execution_count": 1,
      "metadata": {
        "colab": {
          "base_uri": "https://localhost:8080/"
        },
        "id": "WjE58qfnhg2P",
        "outputId": "b361549a-7545-4fec-e4ea-e5f14be4a415"
      },
      "outputs": [
        {
          "output_type": "stream",
          "name": "stdout",
          "text": [
            "Cloning into 'CNNDetection'...\n",
            "remote: Enumerating objects: 632, done.\u001b[K\n",
            "remote: Counting objects: 100% (28/28), done.\u001b[K\n",
            "remote: Compressing objects: 100% (3/3), done.\u001b[K\n",
            "remote: Total 632 (delta 25), reused 25 (delta 25), pack-reused 604\n",
            "Receiving objects: 100% (632/632), 6.36 MiB | 7.03 MiB/s, done.\n",
            "Resolving deltas: 100% (100/100), done.\n"
          ]
        }
      ],
      "source": [
        "!git clone https://github.com/PeterWang512/CNNDetection.git"
      ]
    },
    {
      "cell_type": "code",
      "source": [
        "from google.colab import drive\n",
        "drive.mount('/content/drive')"
      ],
      "metadata": {
        "colab": {
          "base_uri": "https://localhost:8080/"
        },
        "id": "pB7anbjBhnAR",
        "outputId": "bfb79120-83db-420c-8920-d0a2e2d5951e"
      },
      "execution_count": 2,
      "outputs": [
        {
          "output_type": "stream",
          "name": "stdout",
          "text": [
            "Mounted at /content/drive\n"
          ]
        }
      ]
    },
    {
      "cell_type": "code",
      "source": [
        "!cp /content/drive/MyDrive/EECS6322/progan_train.zip /content/CNNDetection/dataset/train\n",
        "!unzip /content/CNNDetection/dataset/train/progan_train.zip -d /content/CNNDetection/dataset/train/"
      ],
      "metadata": {
        "id": "Kl16ZoRTiUtQ"
      },
      "execution_count": 4,
      "outputs": []
    },
    {
      "cell_type": "code",
      "source": [
        "!rm /content/CNNDetection/dataset/train/progan_train.zip"
      ],
      "metadata": {
        "id": "2frNwLZYrLHb"
      },
      "execution_count": 11,
      "outputs": []
    },
    {
      "cell_type": "code",
      "source": [
        "import gdown\n",
        "!gdown 1FU7xF8Wl_F8b0tgL0529qg2nZ_RpdVNL"
      ],
      "metadata": {
        "colab": {
          "base_uri": "https://localhost:8080/"
        },
        "id": "nAefxOLvy4o6",
        "outputId": "f8dab993-7f2c-42bf-988b-c31c08c94396"
      },
      "execution_count": 16,
      "outputs": [
        {
          "output_type": "stream",
          "name": "stdout",
          "text": [
            "Downloading...\n",
            "From: https://drive.google.com/uc?id=1FU7xF8Wl_F8b0tgL0529qg2nZ_RpdVNL\n",
            "To: /content/CNNDetection/progan_val.zip\n",
            "100% 831M/831M [00:24<00:00, 34.3MB/s]\n"
          ]
        }
      ]
    },
    {
      "cell_type": "code",
      "source": [
        "!unzip ./progan_val.zip -d ./dataset/val/"
      ],
      "metadata": {
        "id": "O-LCDVvnzHcc"
      },
      "execution_count": null,
      "outputs": []
    },
    {
      "cell_type": "markdown",
      "source": [
        "# Models Training"
      ],
      "metadata": {
        "id": "s6QlY2u_jBLE"
      }
    },
    {
      "cell_type": "code",
      "source": [],
      "metadata": {
        "id": "2iHnwtRGzGsh"
      },
      "execution_count": null,
      "outputs": []
    },
    {
      "cell_type": "code",
      "source": [
        "!pip install tensorboardX"
      ],
      "metadata": {
        "colab": {
          "base_uri": "https://localhost:8080/"
        },
        "id": "IrGD5s5TwKoQ",
        "outputId": "dc3a8111-97b8-4de5-b9a6-252fac51ebdf"
      },
      "execution_count": 9,
      "outputs": [
        {
          "output_type": "stream",
          "name": "stdout",
          "text": [
            "Looking in indexes: https://pypi.org/simple, https://us-python.pkg.dev/colab-wheels/public/simple/\n",
            "Collecting tensorboardX\n",
            "  Downloading tensorboardX-2.6-py2.py3-none-any.whl (114 kB)\n",
            "\u001b[2K     \u001b[90m━━━━━━━━━━━━━━━━━━━━━━━━━━━━━━━━━━━━━━━\u001b[0m \u001b[32m114.5/114.5 kB\u001b[0m \u001b[31m9.7 MB/s\u001b[0m eta \u001b[36m0:00:00\u001b[0m\n",
            "\u001b[?25hRequirement already satisfied: packaging in /usr/local/lib/python3.9/dist-packages (from tensorboardX) (23.0)\n",
            "Requirement already satisfied: numpy in /usr/local/lib/python3.9/dist-packages (from tensorboardX) (1.22.4)\n",
            "Requirement already satisfied: protobuf<4,>=3.8.0 in /usr/local/lib/python3.9/dist-packages (from tensorboardX) (3.20.3)\n",
            "Installing collected packages: tensorboardX\n",
            "Successfully installed tensorboardX-2.6\n"
          ]
        }
      ]
    },
    {
      "cell_type": "code",
      "source": [
        "# Train Blur+JPEG(0.5)\n",
        "%cd /content/CNNDetection/\n",
        "!python train.py --name blur_jpg_prob0.5 --blur_prob 0.5 --blur_sig 0.0,3.0 --jpg_prob 0.5 --jpg_method cv2,pil --jpg_qual 30,100 --dataroot ./dataset/ --classes airplane"
      ],
      "metadata": {
        "colab": {
          "base_uri": "https://localhost:8080/"
        },
        "id": "DLfB0micvUNm",
        "outputId": "689544f4-e89f-4dad-e9c2-7a3796e85ee9"
      },
      "execution_count": 19,
      "outputs": [
        {
          "output_type": "stream",
          "name": "stdout",
          "text": [
            "/content/CNNDetection\n",
            "----------------- Options ---------------\n",
            "                     arch: res50                         \n",
            "               batch_size: 64                            \n",
            "                    beta1: 0.9                           \n",
            "                blur_prob: 0.5                           \t[default: 0]\n",
            "                 blur_sig: 0.0,3.0                       \t[default: 0.5]\n",
            "          checkpoints_dir: ./checkpoints                 \n",
            "                class_bal: False                         \n",
            "                  classes: airplane                      \t[default: ]\n",
            "           continue_train: False                         \n",
            "                 cropSize: 224                           \n",
            "                 data_aug: False                         \n",
            "                 dataroot: ./dataset/                    \n",
            "          earlystop_epoch: 5                             \n",
            "                    epoch: latest                        \n",
            "              epoch_count: 1                             \n",
            "                  gpu_ids: 0                             \n",
            "                init_gain: 0.02                          \n",
            "                init_type: normal                        \n",
            "                  isTrain: True                          \t[default: None]\n",
            "               jpg_method: cv2,pil                       \t[default: cv2]\n",
            "                 jpg_prob: 0.5                           \t[default: 0]\n",
            "                 jpg_qual: 30,100                        \t[default: 75]\n",
            "               last_epoch: -1                            \n",
            "                 loadSize: 256                           \n",
            "                loss_freq: 400                           \n",
            "                       lr: 0.0001                        \n",
            "                     mode: binary                        \n",
            "                     name: blur_jpg_prob0.5              \t[default: experiment_name]\n",
            "                new_optim: False                         \n",
            "                    niter: 10000                         \n",
            "                  no_flip: False                         \n",
            "              num_threads: 4                             \n",
            "                    optim: adam                          \n",
            "           resize_or_crop: scale_and_crop                \n",
            "                rz_interp: bilinear                      \n",
            "          save_epoch_freq: 20                            \n",
            "         save_latest_freq: 2000                          \n",
            "           serial_batches: False                         \n",
            "                   suffix:                               \n",
            "              train_split: train                         \n",
            "                val_split: val                           \n",
            "----------------- End -------------------\n",
            "/usr/local/lib/python3.9/dist-packages/torch/utils/data/dataloader.py:561: UserWarning: This DataLoader will create 4 worker processes in total. Our suggested max number of worker in current system is 2, which is smaller than what this DataLoader is going to create. Please be aware that excessive worker creation might get DataLoader running slow or even freeze, lower the worker number to avoid potential slowness/freeze if necessary.\n",
            "  warnings.warn(_create_warning_msg(\n",
            "#training images = 563\n",
            "Train loss: 0.09336952120065689 at step: 400\n",
            "saving the model at the end of epoch 0, iters 563\n",
            "(Val @ epoch 0) acc: 0.98; ap: 0.9980953024840779\n",
            "Validation accuracy increased (-inf --> 0.980000).  Saving model ...\n",
            "/usr/local/lib/python3.9/dist-packages/torch/utils/data/dataloader.py:561: UserWarning: This DataLoader will create 4 worker processes in total. Our suggested max number of worker in current system is 2, which is smaller than what this DataLoader is going to create. Please be aware that excessive worker creation might get DataLoader running slow or even freeze, lower the worker number to avoid potential slowness/freeze if necessary.\n",
            "  warnings.warn(_create_warning_msg(\n",
            "Train loss: 0.024604514241218567 at step: 800\n",
            "(Val @ epoch 1) acc: 0.9425; ap: 0.9987177903101023\n",
            "EarlyStopping counter: 1 out of 5\n",
            "/usr/local/lib/python3.9/dist-packages/torch/utils/data/dataloader.py:561: UserWarning: This DataLoader will create 4 worker processes in total. Our suggested max number of worker in current system is 2, which is smaller than what this DataLoader is going to create. Please be aware that excessive worker creation might get DataLoader running slow or even freeze, lower the worker number to avoid potential slowness/freeze if necessary.\n",
            "  warnings.warn(_create_warning_msg(\n",
            "Train loss: 0.016649674624204636 at step: 1200\n",
            "Train loss: 0.0421612411737442 at step: 1600\n",
            "(Val @ epoch 2) acc: 0.9875; ap: 0.9994497082453072\n",
            "Validation accuracy increased (0.980000 --> 0.987500).  Saving model ...\n",
            "/usr/local/lib/python3.9/dist-packages/torch/utils/data/dataloader.py:561: UserWarning: This DataLoader will create 4 worker processes in total. Our suggested max number of worker in current system is 2, which is smaller than what this DataLoader is going to create. Please be aware that excessive worker creation might get DataLoader running slow or even freeze, lower the worker number to avoid potential slowness/freeze if necessary.\n",
            "  warnings.warn(_create_warning_msg(\n",
            "Train loss: 0.05747858062386513 at step: 2000\n",
            "saving the latest model blur_jpg_prob0.5 (epoch 3, model.total_steps 2000)\n",
            "(Val @ epoch 3) acc: 0.99; ap: 0.9997769570152801\n",
            "Validation accuracy increased (0.987500 --> 0.990000).  Saving model ...\n",
            "/usr/local/lib/python3.9/dist-packages/torch/utils/data/dataloader.py:561: UserWarning: This DataLoader will create 4 worker processes in total. Our suggested max number of worker in current system is 2, which is smaller than what this DataLoader is going to create. Please be aware that excessive worker creation might get DataLoader running slow or even freeze, lower the worker number to avoid potential slowness/freeze if necessary.\n",
            "  warnings.warn(_create_warning_msg(\n",
            "Train loss: 0.028597768396139145 at step: 2400\n",
            "Train loss: 0.03874640911817551 at step: 2800\n",
            "(Val @ epoch 4) acc: 0.99; ap: 0.9996105521785486\n",
            "EarlyStopping counter: 1 out of 5\n",
            "/usr/local/lib/python3.9/dist-packages/torch/utils/data/dataloader.py:561: UserWarning: This DataLoader will create 4 worker processes in total. Our suggested max number of worker in current system is 2, which is smaller than what this DataLoader is going to create. Please be aware that excessive worker creation might get DataLoader running slow or even freeze, lower the worker number to avoid potential slowness/freeze if necessary.\n",
            "  warnings.warn(_create_warning_msg(\n",
            "Train loss: 0.09124197065830231 at step: 3200\n",
            "(Val @ epoch 5) acc: 0.9975; ap: 1.0\n",
            "Validation accuracy increased (0.990000 --> 0.997500).  Saving model ...\n",
            "/usr/local/lib/python3.9/dist-packages/torch/utils/data/dataloader.py:561: UserWarning: This DataLoader will create 4 worker processes in total. Our suggested max number of worker in current system is 2, which is smaller than what this DataLoader is going to create. Please be aware that excessive worker creation might get DataLoader running slow or even freeze, lower the worker number to avoid potential slowness/freeze if necessary.\n",
            "  warnings.warn(_create_warning_msg(\n",
            "Train loss: 0.006133805960416794 at step: 3600\n",
            "(Val @ epoch 6) acc: 0.9975; ap: 0.9999261083743842\n",
            "EarlyStopping counter: 1 out of 5\n",
            "/usr/local/lib/python3.9/dist-packages/torch/utils/data/dataloader.py:561: UserWarning: This DataLoader will create 4 worker processes in total. Our suggested max number of worker in current system is 2, which is smaller than what this DataLoader is going to create. Please be aware that excessive worker creation might get DataLoader running slow or even freeze, lower the worker number to avoid potential slowness/freeze if necessary.\n",
            "  warnings.warn(_create_warning_msg(\n",
            "Train loss: 0.014190180227160454 at step: 4000\n",
            "saving the latest model blur_jpg_prob0.5 (epoch 7, model.total_steps 4000)\n",
            "Train loss: 0.02570931240916252 at step: 4400\n",
            "(Val @ epoch 7) acc: 0.985; ap: 0.9989261656168801\n",
            "EarlyStopping counter: 2 out of 5\n",
            "/usr/local/lib/python3.9/dist-packages/torch/utils/data/dataloader.py:561: UserWarning: This DataLoader will create 4 worker processes in total. Our suggested max number of worker in current system is 2, which is smaller than what this DataLoader is going to create. Please be aware that excessive worker creation might get DataLoader running slow or even freeze, lower the worker number to avoid potential slowness/freeze if necessary.\n",
            "  warnings.warn(_create_warning_msg(\n",
            "Train loss: 0.05444452166557312 at step: 4800\n",
            "(Val @ epoch 8) acc: 1.0; ap: 1.0\n",
            "Validation accuracy increased (0.997500 --> 1.000000).  Saving model ...\n",
            "/usr/local/lib/python3.9/dist-packages/torch/utils/data/dataloader.py:561: UserWarning: This DataLoader will create 4 worker processes in total. Our suggested max number of worker in current system is 2, which is smaller than what this DataLoader is going to create. Please be aware that excessive worker creation might get DataLoader running slow or even freeze, lower the worker number to avoid potential slowness/freeze if necessary.\n",
            "  warnings.warn(_create_warning_msg(\n",
            "Train loss: 0.05911894887685776 at step: 5200\n",
            "Train loss: 0.00471952510997653 at step: 5600\n",
            "(Val @ epoch 9) acc: 0.9975; ap: 0.9998780487804879\n",
            "EarlyStopping counter: 1 out of 5\n",
            "/usr/local/lib/python3.9/dist-packages/torch/utils/data/dataloader.py:561: UserWarning: This DataLoader will create 4 worker processes in total. Our suggested max number of worker in current system is 2, which is smaller than what this DataLoader is going to create. Please be aware that excessive worker creation might get DataLoader running slow or even freeze, lower the worker number to avoid potential slowness/freeze if necessary.\n",
            "  warnings.warn(_create_warning_msg(\n",
            "Train loss: 0.006256261840462685 at step: 6000\n",
            "saving the latest model blur_jpg_prob0.5 (epoch 10, model.total_steps 6000)\n",
            "(Val @ epoch 10) acc: 0.99; ap: 0.9996992260776176\n",
            "EarlyStopping counter: 2 out of 5\n",
            "/usr/local/lib/python3.9/dist-packages/torch/utils/data/dataloader.py:561: UserWarning: This DataLoader will create 4 worker processes in total. Our suggested max number of worker in current system is 2, which is smaller than what this DataLoader is going to create. Please be aware that excessive worker creation might get DataLoader running slow or even freeze, lower the worker number to avoid potential slowness/freeze if necessary.\n",
            "  warnings.warn(_create_warning_msg(\n",
            "Train loss: 0.0007899930351413786 at step: 6400\n",
            "(Val @ epoch 11) acc: 0.995; ap: 1.0\n",
            "EarlyStopping counter: 3 out of 5\n",
            "/usr/local/lib/python3.9/dist-packages/torch/utils/data/dataloader.py:561: UserWarning: This DataLoader will create 4 worker processes in total. Our suggested max number of worker in current system is 2, which is smaller than what this DataLoader is going to create. Please be aware that excessive worker creation might get DataLoader running slow or even freeze, lower the worker number to avoid potential slowness/freeze if necessary.\n",
            "  warnings.warn(_create_warning_msg(\n",
            "Train loss: 0.04775429517030716 at step: 6800\n",
            "Train loss: 0.024546649307012558 at step: 7200\n",
            "(Val @ epoch 12) acc: 0.9925; ap: 0.9999261083743843\n",
            "EarlyStopping counter: 4 out of 5\n",
            "/usr/local/lib/python3.9/dist-packages/torch/utils/data/dataloader.py:561: UserWarning: This DataLoader will create 4 worker processes in total. Our suggested max number of worker in current system is 2, which is smaller than what this DataLoader is going to create. Please be aware that excessive worker creation might get DataLoader running slow or even freeze, lower the worker number to avoid potential slowness/freeze if necessary.\n",
            "  warnings.warn(_create_warning_msg(\n",
            "Train loss: 0.03923985734581947 at step: 7600\n",
            "(Val @ epoch 13) acc: 0.9975; ap: 1.0\n",
            "EarlyStopping counter: 5 out of 5\n",
            "Learning rate dropped by 10, continue training...\n",
            "/usr/local/lib/python3.9/dist-packages/torch/utils/data/dataloader.py:561: UserWarning: This DataLoader will create 4 worker processes in total. Our suggested max number of worker in current system is 2, which is smaller than what this DataLoader is going to create. Please be aware that excessive worker creation might get DataLoader running slow or even freeze, lower the worker number to avoid potential slowness/freeze if necessary.\n",
            "  warnings.warn(_create_warning_msg(\n",
            "Train loss: 0.041061073541641235 at step: 8000\n",
            "saving the latest model blur_jpg_prob0.5 (epoch 14, model.total_steps 8000)\n",
            "Train loss: 0.0003386150347068906 at step: 8400\n",
            "(Val @ epoch 14) acc: 1.0; ap: 1.0\n",
            "Validation accuracy increased (-inf --> 1.000000).  Saving model ...\n",
            "/usr/local/lib/python3.9/dist-packages/torch/utils/data/dataloader.py:561: UserWarning: This DataLoader will create 4 worker processes in total. Our suggested max number of worker in current system is 2, which is smaller than what this DataLoader is going to create. Please be aware that excessive worker creation might get DataLoader running slow or even freeze, lower the worker number to avoid potential slowness/freeze if necessary.\n",
            "  warnings.warn(_create_warning_msg(\n",
            "Train loss: 0.0019080527126789093 at step: 8800\n",
            "(Val @ epoch 15) acc: 0.9975; ap: 1.0\n",
            "EarlyStopping counter: 1 out of 5\n",
            "/usr/local/lib/python3.9/dist-packages/torch/utils/data/dataloader.py:561: UserWarning: This DataLoader will create 4 worker processes in total. Our suggested max number of worker in current system is 2, which is smaller than what this DataLoader is going to create. Please be aware that excessive worker creation might get DataLoader running slow or even freeze, lower the worker number to avoid potential slowness/freeze if necessary.\n",
            "  warnings.warn(_create_warning_msg(\n",
            "Train loss: 0.0003052627725992352 at step: 9200\n",
            "(Val @ epoch 16) acc: 1.0; ap: 1.0\n",
            "EarlyStopping counter: 2 out of 5\n",
            "/usr/local/lib/python3.9/dist-packages/torch/utils/data/dataloader.py:561: UserWarning: This DataLoader will create 4 worker processes in total. Our suggested max number of worker in current system is 2, which is smaller than what this DataLoader is going to create. Please be aware that excessive worker creation might get DataLoader running slow or even freeze, lower the worker number to avoid potential slowness/freeze if necessary.\n",
            "  warnings.warn(_create_warning_msg(\n",
            "Train loss: 0.04110092297196388 at step: 9600\n",
            "Train loss: 4.7105131670832634e-05 at step: 10000\n",
            "saving the latest model blur_jpg_prob0.5 (epoch 17, model.total_steps 10000)\n",
            "(Val @ epoch 17) acc: 1.0; ap: 1.0\n",
            "EarlyStopping counter: 3 out of 5\n",
            "/usr/local/lib/python3.9/dist-packages/torch/utils/data/dataloader.py:561: UserWarning: This DataLoader will create 4 worker processes in total. Our suggested max number of worker in current system is 2, which is smaller than what this DataLoader is going to create. Please be aware that excessive worker creation might get DataLoader running slow or even freeze, lower the worker number to avoid potential slowness/freeze if necessary.\n",
            "  warnings.warn(_create_warning_msg(\n",
            "Train loss: 0.0006023852620273829 at step: 10400\n",
            "(Val @ epoch 18) acc: 1.0; ap: 1.0\n",
            "EarlyStopping counter: 4 out of 5\n",
            "/usr/local/lib/python3.9/dist-packages/torch/utils/data/dataloader.py:561: UserWarning: This DataLoader will create 4 worker processes in total. Our suggested max number of worker in current system is 2, which is smaller than what this DataLoader is going to create. Please be aware that excessive worker creation might get DataLoader running slow or even freeze, lower the worker number to avoid potential slowness/freeze if necessary.\n",
            "  warnings.warn(_create_warning_msg(\n",
            "Train loss: 0.0905122309923172 at step: 10800\n",
            "Train loss: 0.0011513284407556057 at step: 11200\n",
            "(Val @ epoch 19) acc: 1.0; ap: 1.0\n",
            "EarlyStopping counter: 5 out of 5\n",
            "Learning rate dropped by 10, continue training...\n",
            "/usr/local/lib/python3.9/dist-packages/torch/utils/data/dataloader.py:561: UserWarning: This DataLoader will create 4 worker processes in total. Our suggested max number of worker in current system is 2, which is smaller than what this DataLoader is going to create. Please be aware that excessive worker creation might get DataLoader running slow or even freeze, lower the worker number to avoid potential slowness/freeze if necessary.\n",
            "  warnings.warn(_create_warning_msg(\n",
            "Train loss: 0.0014476728392764926 at step: 11600\n",
            "saving the model at the end of epoch 20, iters 11823\n",
            "(Val @ epoch 20) acc: 1.0; ap: 1.0\n",
            "Validation accuracy increased (-inf --> 1.000000).  Saving model ...\n",
            "/usr/local/lib/python3.9/dist-packages/torch/utils/data/dataloader.py:561: UserWarning: This DataLoader will create 4 worker processes in total. Our suggested max number of worker in current system is 2, which is smaller than what this DataLoader is going to create. Please be aware that excessive worker creation might get DataLoader running slow or even freeze, lower the worker number to avoid potential slowness/freeze if necessary.\n",
            "  warnings.warn(_create_warning_msg(\n",
            "Train loss: 0.0018793102353811264 at step: 12000\n",
            "saving the latest model blur_jpg_prob0.5 (epoch 21, model.total_steps 12000)\n",
            "(Val @ epoch 21) acc: 1.0; ap: 1.0\n",
            "EarlyStopping counter: 1 out of 5\n",
            "/usr/local/lib/python3.9/dist-packages/torch/utils/data/dataloader.py:561: UserWarning: This DataLoader will create 4 worker processes in total. Our suggested max number of worker in current system is 2, which is smaller than what this DataLoader is going to create. Please be aware that excessive worker creation might get DataLoader running slow or even freeze, lower the worker number to avoid potential slowness/freeze if necessary.\n",
            "  warnings.warn(_create_warning_msg(\n",
            "Train loss: 0.00018314564658794552 at step: 12400\n",
            "Train loss: 0.0014413910685107112 at step: 12800\n",
            "(Val @ epoch 22) acc: 1.0; ap: 1.0\n",
            "EarlyStopping counter: 2 out of 5\n",
            "/usr/local/lib/python3.9/dist-packages/torch/utils/data/dataloader.py:561: UserWarning: This DataLoader will create 4 worker processes in total. Our suggested max number of worker in current system is 2, which is smaller than what this DataLoader is going to create. Please be aware that excessive worker creation might get DataLoader running slow or even freeze, lower the worker number to avoid potential slowness/freeze if necessary.\n",
            "  warnings.warn(_create_warning_msg(\n",
            "Train loss: 0.0006953042466193438 at step: 13200\n",
            "(Val @ epoch 23) acc: 1.0; ap: 0.9999999999999999\n",
            "EarlyStopping counter: 3 out of 5\n",
            "/usr/local/lib/python3.9/dist-packages/torch/utils/data/dataloader.py:561: UserWarning: This DataLoader will create 4 worker processes in total. Our suggested max number of worker in current system is 2, which is smaller than what this DataLoader is going to create. Please be aware that excessive worker creation might get DataLoader running slow or even freeze, lower the worker number to avoid potential slowness/freeze if necessary.\n",
            "  warnings.warn(_create_warning_msg(\n",
            "Train loss: 0.0001541669189464301 at step: 13600\n",
            "Train loss: 0.00040339777478948236 at step: 14000\n",
            "saving the latest model blur_jpg_prob0.5 (epoch 24, model.total_steps 14000)\n",
            "(Val @ epoch 24) acc: 1.0; ap: 0.9999999999999999\n",
            "EarlyStopping counter: 4 out of 5\n",
            "/usr/local/lib/python3.9/dist-packages/torch/utils/data/dataloader.py:561: UserWarning: This DataLoader will create 4 worker processes in total. Our suggested max number of worker in current system is 2, which is smaller than what this DataLoader is going to create. Please be aware that excessive worker creation might get DataLoader running slow or even freeze, lower the worker number to avoid potential slowness/freeze if necessary.\n",
            "  warnings.warn(_create_warning_msg(\n",
            "Train loss: 0.0010782766621559858 at step: 14400\n",
            "(Val @ epoch 25) acc: 1.0; ap: 1.0\n",
            "EarlyStopping counter: 5 out of 5\n",
            "Early stopping.\n"
          ]
        }
      ]
    },
    {
      "cell_type": "markdown",
      "source": [
        "Train Blur+JPEG(0.5)"
      ],
      "metadata": {
        "id": "XfobQIosUTxr"
      }
    },
    {
      "cell_type": "code",
      "source": [
        "# Train Blur+JPEG(0.5)\n",
        "!python train.py --name blur_jpg_prob0.5 --blur_prob 0.5 --blur_sig 0.0,3.0 --jpg_prob 0.5 --jpg_method cv2,pil --jpg_qual 30,100 --dataroot ./dataset/ --classes airplane,bird,bicycle,boat,bottle,bus,car,cat,cow,chair,diningtable,dog,person,pottedplant,motorbike,tvmonitor,train,sheep,sofa,horse\n"
      ],
      "metadata": {
        "colab": {
          "base_uri": "https://localhost:8080/"
        },
        "id": "Qy1JZkRii6Ld",
        "outputId": "aa24e3ee-0569-493f-e65f-50bbf0116884"
      },
      "execution_count": 5,
      "outputs": [
        {
          "output_type": "stream",
          "name": "stdout",
          "text": [
            "/content\n"
          ]
        }
      ]
    },
    {
      "cell_type": "markdown",
      "source": [
        "Train Blur+JPEG(0.1)"
      ],
      "metadata": {
        "id": "fdCCkkJBUP7M"
      }
    },
    {
      "cell_type": "code",
      "source": [
        "# Train Blur+JPEG(0.1)\n",
        "!python train.py --name blur_jpg_prob0.1 --blur_prob 0.1 --blur_sig 0.0,3.0 --jpg_prob 0.1 --jpg_method cv2,pil --jpg_qual 30,100 --dataroot ./dataset/ --classes airplane,bird,bicycle,boat,bottle,bus,car,cat,cow,chair,diningtable,dog,person,pottedplant,motorbike,tvmonitor,train,sheep,sofa,horse"
      ],
      "metadata": {
        "id": "Yu3VR4e7i6se"
      },
      "execution_count": null,
      "outputs": []
    },
    {
      "cell_type": "markdown",
      "source": [
        "Train Blur"
      ],
      "metadata": {
        "id": "i0ddwXLrUXna"
      }
    },
    {
      "cell_type": "code",
      "source": [
        "# Train blur\n",
        "!python train.py --name blur --blur_prob 0.5 --blur_sig 0.0,3.0 --dataroot ./dataset/ --classes airplane,bird,bicycle,boat,bottle,bus,car,cat,cow,chair,diningtable,dog,person,pottedplant,motorbike,tvmonitor,train,sheep,sofa,horse"
      ],
      "metadata": {
        "id": "QPq9l6sSi6uz"
      },
      "execution_count": null,
      "outputs": []
    },
    {
      "cell_type": "markdown",
      "source": [
        "Train JPEG"
      ],
      "metadata": {
        "id": "1zBg-E_YUeB5"
      }
    },
    {
      "cell_type": "code",
      "source": [
        "# Train jpeg\n",
        "!python train.py --name jpeg --jpg_prob 0.5 --jpg_method cv2,pil --jpg_qual 30,100 --dataroot ./dataset/ --classes airplane,bird,bicycle,boat,bottle,bus,car,cat,cow,chair,diningtable,dog,person,pottedplant,motorbike,tvmonitor,train,sheep,sofa,horse"
      ],
      "metadata": {
        "id": "lKJHwi7Yi6w5"
      },
      "execution_count": null,
      "outputs": []
    },
    {
      "cell_type": "markdown",
      "source": [
        "Train No Augmentation"
      ],
      "metadata": {
        "id": "Vybh1P_QUgZX"
      }
    },
    {
      "cell_type": "code",
      "source": [
        "# Train no augmentation\n",
        "!python train.py --name no_aug --dataroot ./dataset/ --classes airplane,bird,bicycle,boat,bottle,bus,car,cat,cow,chair,diningtable,dog,person,pottedplant,motorbike,tvmonitor,train,sheep,sofa,horse"
      ],
      "metadata": {
        "colab": {
          "base_uri": "https://localhost:8080/"
        },
        "id": "evUW3U8Ri600",
        "outputId": "34951b9b-39ec-4a7f-feed-5eea6137f7b9"
      },
      "execution_count": null,
      "outputs": [
        {
          "output_type": "stream",
          "name": "stdout",
          "text": [
            "----------------- Options ---------------\n",
            "                     arch: res50                         \n",
            "               batch_size: 64                            \n",
            "                    beta1: 0.9                           \n",
            "                blur_prob: 0                             \n",
            "                 blur_sig: 0.5                           \n",
            "          checkpoints_dir: ./checkpoints                 \n",
            "                class_bal: False                         \n",
            "                  classes: airplane,bird,bicycle,boat,bottle,bus,car,cat,cow,chair,diningtable,dog,person,pottedplant,motorbike,tvmonitor,train,sheep,sofa,horse\t[default: ]\n",
            "           continue_train: False                         \n",
            "                 cropSize: 224                           \n",
            "                 data_aug: False                         \n",
            "                 dataroot: ./dataset/                    \n",
            "          earlystop_epoch: 5                             \n",
            "                    epoch: latest                        \n",
            "              epoch_count: 1                             \n",
            "                  gpu_ids: 0                             \n",
            "                init_gain: 0.02                          \n",
            "                init_type: normal                        \n",
            "                  isTrain: True                          \t[default: None]\n",
            "               jpg_method: cv2                           \n",
            "                 jpg_prob: 0                             \n",
            "                 jpg_qual: 75                            \n",
            "               last_epoch: -1                            \n",
            "                 loadSize: 256                           \n",
            "                loss_freq: 400                           \n",
            "                       lr: 0.0001                        \n",
            "                     mode: binary                        \n",
            "                     name: no_aug                        \t[default: experiment_name]\n",
            "                new_optim: False                         \n",
            "                    niter: 10000                         \n",
            "                  no_flip: False                         \n",
            "              num_threads: 4                             \n",
            "                    optim: adam                          \n",
            "           resize_or_crop: scale_and_crop                \n",
            "                rz_interp: bilinear                      \n",
            "          save_epoch_freq: 20                            \n",
            "         save_latest_freq: 2000                          \n",
            "           serial_batches: False                         \n",
            "                   suffix:                               \n",
            "              train_split: train                         \n",
            "                val_split: val                           \n",
            "----------------- End -------------------\n",
            "/usr/local/lib/python3.9/dist-packages/torch/utils/data/dataloader.py:561: UserWarning: This DataLoader will create 4 worker processes in total. Our suggested max number of worker in current system is 2, which is smaller than what this DataLoader is going to create. Please be aware that excessive worker creation might get DataLoader running slow or even freeze, lower the worker number to avoid potential slowness/freeze if necessary.\n",
            "  warnings.warn(_create_warning_msg(\n",
            "#training images = 11252\n"
          ]
        }
      ]
    },
    {
      "cell_type": "code",
      "source": [],
      "metadata": {
        "id": "B-pu6vY5il0D"
      },
      "execution_count": null,
      "outputs": []
    }
  ]
}