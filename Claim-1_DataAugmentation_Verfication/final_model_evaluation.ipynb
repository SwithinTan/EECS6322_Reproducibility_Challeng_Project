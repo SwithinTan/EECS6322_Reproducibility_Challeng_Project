{
  "nbformat": 4,
  "nbformat_minor": 0,
  "metadata": {
    "colab": {
      "provenance": []
    },
    "kernelspec": {
      "name": "python3",
      "display_name": "Python 3"
    },
    "language_info": {
      "name": "python"
    },
    "accelerator": "GPU",
    "gpuClass": "standard"
  },
  "cells": [
    {
      "cell_type": "markdown",
      "source": [
        "# Download the saved models from pth files"
      ],
      "metadata": {
        "id": "QXfhPMLc5Ecc"
      }
    },
    {
      "cell_type": "code",
      "execution_count": 1,
      "metadata": {
        "id": "82byzn5F4nbq",
        "colab": {
          "base_uri": "https://localhost:8080/"
        },
        "outputId": "f88088f6-e361-4bf4-c8eb-e47ee1848ec7"
      },
      "outputs": [
        {
          "output_type": "stream",
          "name": "stdout",
          "text": [
            "Downloading...\n",
            "From: https://drive.google.com/uc?id=1wFB32vUF3ZuesxYZdfEyVtk-nvpYgKFO\n",
            "To: /content/models.zip\n",
            "100% 5.10G/5.10G [01:40<00:00, 50.9MB/s]\n"
          ]
        }
      ],
      "source": [
        "import gdown\n",
        "!gdown 1wFB32vUF3ZuesxYZdfEyVtk-nvpYgKFO"
      ]
    },
    {
      "cell_type": "code",
      "source": [
        "!unzip ./models.zip -d ./models"
      ],
      "metadata": {
        "id": "I80rdK6c5NZM"
      },
      "execution_count": null,
      "outputs": []
    },
    {
      "cell_type": "code",
      "source": [
        "!git clone https://github.com/PeterWang512/CNNDetection.git"
      ],
      "metadata": {
        "id": "MYDdn_PEdgEN",
        "colab": {
          "base_uri": "https://localhost:8080/"
        },
        "outputId": "fb7b9bbb-fdff-492b-9c09-569647abc3bb"
      },
      "execution_count": 1,
      "outputs": [
        {
          "output_type": "stream",
          "name": "stdout",
          "text": [
            "Cloning into 'CNNDetection'...\n",
            "remote: Enumerating objects: 632, done.\u001b[K\n",
            "remote: Counting objects: 100% (28/28), done.\u001b[K\n",
            "remote: Compressing objects: 100% (3/3), done.\u001b[K\n",
            "remote: Total 632 (delta 25), reused 25 (delta 25), pack-reused 604\u001b[K\n",
            "Receiving objects: 100% (632/632), 6.36 MiB | 19.27 MiB/s, done.\n",
            "Resolving deltas: 100% (100/100), done.\n"
          ]
        }
      ]
    },
    {
      "cell_type": "code",
      "source": [
        "from google.colab import drive\n",
        "drive.mount('/content/drive')\n"
      ],
      "metadata": {
        "id": "EqmNcFbFePJb",
        "colab": {
          "base_uri": "https://localhost:8080/"
        },
        "outputId": "fc9e570a-68b4-4d25-d016-d3304ade4311"
      },
      "execution_count": 2,
      "outputs": [
        {
          "output_type": "stream",
          "name": "stdout",
          "text": [
            "Mounted at /content/drive\n"
          ]
        }
      ]
    },
    {
      "cell_type": "markdown",
      "source": [
        "## Download the test dataset"
      ],
      "metadata": {
        "id": "iWW_Gs7ugo3x"
      }
    },
    {
      "cell_type": "code",
      "source": [
        "%cd ./CNNDetection/dataset/test/"
      ],
      "metadata": {
        "colab": {
          "base_uri": "https://localhost:8080/"
        },
        "id": "KUC3fPC0gH6D",
        "outputId": "68651ea7-ac44-4460-ee79-071978a92295"
      },
      "execution_count": 5,
      "outputs": [
        {
          "output_type": "stream",
          "name": "stdout",
          "text": [
            "/content/CNNDetection/dataset/test\n"
          ]
        }
      ]
    },
    {
      "cell_type": "code",
      "source": [
        "!gdown 1z_fD3UKgWQyOTZIBbYSaQ-hz4AzUrLC1"
      ],
      "metadata": {
        "colab": {
          "base_uri": "https://localhost:8080/"
        },
        "id": "tVnnkdy4gruj",
        "outputId": "1336d365-db11-4798-edf7-8266f93972f1"
      },
      "execution_count": 6,
      "outputs": [
        {
          "output_type": "stream",
          "name": "stdout",
          "text": [
            "Downloading...\n",
            "From: https://drive.google.com/uc?id=1z_fD3UKgWQyOTZIBbYSaQ-hz4AzUrLC1\n",
            "To: /content/CNNDetection/dataset/test/CNN_synth_testset.zip\n",
            "100% 20.1G/20.1G [05:30<00:00, 60.6MB/s]\n"
          ]
        }
      ]
    },
    {
      "cell_type": "code",
      "source": [
        "!unzip ./CNN_synth_testset.zip -d ./"
      ],
      "metadata": {
        "id": "VfGra9KJiEJ3"
      },
      "execution_count": null,
      "outputs": []
    },
    {
      "cell_type": "markdown",
      "source": [
        "## Download the trained models (weights)"
      ],
      "metadata": {
        "id": "nWonaA0Eg41T"
      }
    },
    {
      "cell_type": "code",
      "source": [
        "%cd ~/../content/CNNDetection/weights/"
      ],
      "metadata": {
        "colab": {
          "base_uri": "https://localhost:8080/"
        },
        "id": "CBWcQ-V7gH8H",
        "outputId": "8aaa4c35-721f-43d3-e6b0-f41a0a8bc634"
      },
      "execution_count": 9,
      "outputs": [
        {
          "output_type": "stream",
          "name": "stdout",
          "text": [
            "/content/CNNDetection/weights\n"
          ]
        }
      ]
    },
    {
      "cell_type": "code",
      "source": [
        "!sh ./download_weights.sh"
      ],
      "metadata": {
        "colab": {
          "base_uri": "https://localhost:8080/"
        },
        "id": "Ywk3M5hlgjd_",
        "outputId": "4c12324d-1489-4f31-a231-76eca04491b7"
      },
      "execution_count": 11,
      "outputs": [
        {
          "output_type": "stream",
          "name": "stdout",
          "text": [
            "./weights/blur_jpg_prob0.5.pth: No such file or directory\n",
            "./weights/blur_jpg_prob0.1.pth: No such file or directory\n"
          ]
        }
      ]
    },
    {
      "cell_type": "code",
      "source": [
        "!wget https://www.dropbox.com/s/h7tkpcgiwuftb6g/blur_jpg_prob0.1.pth?dl=0"
      ],
      "metadata": {
        "id": "XwkYFDfFgjgS"
      },
      "execution_count": null,
      "outputs": []
    },
    {
      "cell_type": "code",
      "source": [
        "!wget https://www.dropbox.com/s/2g2jagq2jn1fd0i/blur_jpg_prob0.5.pth?dl=0"
      ],
      "metadata": {
        "id": "0gL8za9Zgjic"
      },
      "execution_count": null,
      "outputs": []
    },
    {
      "cell_type": "markdown",
      "source": [
        "# Run Evaluation program"
      ],
      "metadata": {
        "id": "0GxRp7bjkumT"
      }
    },
    {
      "cell_type": "code",
      "source": [
        "%cd ~/../content/CNNDetection/\n",
        "!python eval.py"
      ],
      "metadata": {
        "colab": {
          "base_uri": "https://localhost:8080/"
        },
        "id": "FtOwy7ZaJ1Us",
        "outputId": "9863c1a0-c704-45f6-f92e-eb6264652d57"
      },
      "execution_count": 27,
      "outputs": [
        {
          "output_type": "stream",
          "name": "stdout",
          "text": [
            "/content/CNNDetection\n",
            "checkpoint model testing on...\n",
            "Traceback (most recent call last):\n",
            "  File \"/content/CNNDetection/eval.py\", line 33, in <module>\n",
            "    model.load_state_dict(state_dict.module.state_dict())\n",
            "  File \"/usr/local/lib/python3.9/dist-packages/torch/nn/modules/module.py\", line 2041, in load_state_dict\n",
            "    raise RuntimeError('Error(s) in loading state_dict for {}:\\n\\t{}'.format(\n",
            "RuntimeError: Error(s) in loading state_dict for ResNet:\n",
            "\tMissing key(s) in state_dict: \"conv1.weight\", \"bn1.weight\", \"bn1.bias\", \"bn1.running_mean\", \"bn1.running_var\", \"layer1.0.conv1.weight\", \"layer1.0.bn1.weight\", \"layer1.0.bn1.bias\", \"layer1.0.bn1.running_mean\", \"layer1.0.bn1.running_var\", \"layer1.0.conv2.weight\", \"layer1.0.bn2.weight\", \"layer1.0.bn2.bias\", \"layer1.0.bn2.running_mean\", \"layer1.0.bn2.running_var\", \"layer1.0.conv3.weight\", \"layer1.0.bn3.weight\", \"layer1.0.bn3.bias\", \"layer1.0.bn3.running_mean\", \"layer1.0.bn3.running_var\", \"layer1.0.downsample.0.weight\", \"layer1.0.downsample.1.weight\", \"layer1.0.downsample.1.bias\", \"layer1.0.downsample.1.running_mean\", \"layer1.0.downsample.1.running_var\", \"layer1.1.conv1.weight\", \"layer1.1.bn1.weight\", \"layer1.1.bn1.bias\", \"layer1.1.bn1.running_mean\", \"layer1.1.bn1.running_var\", \"layer1.1.conv2.weight\", \"layer1.1.bn2.weight\", \"layer1.1.bn2.bias\", \"layer1.1.bn2.running_mean\", \"layer1.1.bn2.running_var\", \"layer1.1.conv3.weight\", \"layer1.1.bn3.weight\", \"layer1.1.bn3.bias\", \"layer1.1.bn3.running_mean\", \"layer1.1.bn3.running_var\", \"layer1.2.conv1.weight\", \"layer1.2.bn1.weight\", \"layer1.2.bn1.bias\", \"layer1.2.bn1.running_mean\", \"layer1.2.bn1.running_var\", \"layer1.2.conv2.weight\", \"layer1.2.bn2.weight\", \"layer1.2.bn2.bias\", \"layer1.2.bn2.running_mean\", \"layer1.2.bn2.running_var\", \"layer1.2.conv3.weight\", \"layer1.2.bn3.weight\", \"layer1.2.bn3.bias\", \"layer1.2.bn3.running_mean\", \"layer1.2.bn3.running_var\", \"layer2.0.conv1.weight\", \"layer2.0.bn1.weight\", \"layer2.0.bn1.bias\", \"layer2.0.bn1.running_mean\", \"layer2.0.bn1.running_var\", \"layer2.0.conv2.weight\", \"layer2.0.bn2.weight\", \"layer2.0.bn2.bias\", \"layer2.0.bn2.running_mean\", \"layer2.0.bn2.running_var\", \"layer2.0.conv3.weight\", \"layer2.0.bn3.weight\", \"layer2.0.bn3.bias\", \"layer2.0.bn3.running_mean\", \"layer2.0.bn3.running_var\", \"layer2.0.downsample.0.weight\", \"layer2.0.downsample.1.weight\", \"layer2.0.downsample.1.bias\", \"layer2.0.downsample.1.running_mean\", \"layer2.0.downsample.1.running_var\", \"layer2.1.conv1.weight\", \"layer2.1.bn1.weight\", \"layer2.1.bn1.bias\", \"layer2.1.bn1.running_mean\", \"layer2.1.bn1.running_var\", \"layer2.1.conv2.weight\", \"layer2.1.bn2.weight\", \"layer2.1.bn2.bias\", \"layer2.1.bn2.running_mean\", \"layer2.1.bn2.running_var\", \"layer2.1.conv3.weight\", \"layer2.1.bn3.weight\", \"layer2.1.bn3.bias\", \"layer2.1.bn3.running_mean\", \"layer2.1.bn3.running_var\", \"layer2.2.conv1.weight\", \"layer2.2.bn1.weight\", \"layer2.2.bn1.bias\", \"layer2.2.bn1.running_mean\", \"layer2.2.bn1.running_var\", \"layer2.2.conv2.weight\", \"layer2.2.bn2.weight\", \"layer2.2.bn2.bias\", \"layer2.2.bn2.running_mean\", \"layer2.2.bn2.running_var\", \"layer2.2.conv3.weight\", \"layer2.2.bn3.weight\", \"layer2.2.bn3.bias\", \"layer2.2.bn3.running_mean\", \"layer2.2.bn3.running_var\", \"layer2.3.conv1.weight\", \"layer2.3.bn1.weight\", \"layer2.3.bn1.bias\", \"layer2.3.bn1.running_mean\", \"layer2.3.bn1.running_var\", \"layer2.3.conv2.weight\", \"layer2.3.bn2.weight\", \"layer2.3.bn2.bias\", \"layer2.3.bn2.running_mean\", \"layer2.3.bn2.running_var\", \"layer2.3.conv3.weight\", \"layer2.3.bn3.weight\", \"layer2.3.bn3.bias\", \"layer2.3.bn3.running_mean\", \"layer2.3.bn3.running_var\", \"layer3.0.conv1.weight\", \"layer3.0.bn1.weight\", \"layer3.0.bn1.bias\", \"layer3.0.bn1.running_mean\", \"layer3.0.bn1.running_var\", \"layer3.0.conv2.weight\", \"layer3.0.bn2.weight\", \"layer3.0.bn2.bias\", \"layer3.0.bn2.running_mean\", \"layer3.0.bn2.running_var\", \"layer3.0.conv3.weight\", \"layer3.0.bn3.weight\", \"layer3.0.bn3.bias\", \"layer3.0.bn3.running_mean\", \"layer3.0.bn3.running_var\", \"layer3.0.downsample.0.weight\", \"layer3.0.downsample.1.weight\", \"layer3.0.downsample.1.bias\", \"layer3.0.downsample.1.running_mean\", \"layer3.0.downsample.1.running_var\", \"layer3.1.conv1.weight\", \"layer3.1.bn1.weight\", \"layer3.1.bn1.bias\", \"layer3.1.bn1.running_mean\", \"layer3.1.bn1.running_var\", \"layer3.1.conv2.weight\", \"layer3.1.bn2.weight\", \"layer3.1.bn2.bias\", \"layer3.1.bn2.running_mean\", \"layer3.1.bn2.running_var\", \"layer3.1.conv3.weight\", \"layer3.1.bn3.weight\", \"layer3.1.bn3.bias\", \"layer3.1.bn3.running_mean\", \"layer3.1.bn3.running_var\", \"layer3.2.conv1.weight\", \"layer3.2.bn1.weight\", \"layer3.2.bn1.bias\", \"layer3.2.bn1.running_mean\", \"layer3.2.bn1.running_var\", \"layer3.2.conv2.weight\", \"layer3.2.bn2.weight\", \"layer3.2.bn2.bias\", \"layer3.2.bn2.running_mean\", \"layer3.2.bn2.running_var\", \"layer3.2.conv3.weight\", \"layer3.2.bn3.weight\", \"layer3.2.bn3.bias\", \"layer3.2.bn3.running_mean\", \"layer3.2.bn3.running_var\", \"layer3.3.conv1.weight\", \"layer3.3.bn1.weight\", \"layer3.3.bn1.bias\", \"layer3.3.bn1.running_mean\", \"layer3.3.bn1.running_var\", \"layer3.3.conv2.weight\", \"layer3.3.bn2.weight\", \"layer3.3.bn2.bias\", \"layer3.3.bn2.running_mean\", \"layer3.3.bn2.running_var\", \"layer3.3.conv3.weight\", \"layer3.3.bn3.weight\", \"layer3.3.bn3.bias\", \"layer3.3.bn3.running_mean\", \"layer3.3.bn3.running_var\", \"layer3.4.conv1.weight\", \"layer3.4.bn1.weight\", \"layer3.4.bn1.bias\", \"layer3.4.bn1.running_mean\", \"layer3.4.bn1.running_var\", \"layer3.4.conv2.weight\", \"layer3.4.bn2.weight\", \"layer3.4.bn2.bias\", \"layer3.4.bn2.running_mean\", \"layer3.4.bn2.running_var\", \"layer3.4.conv3.weight\", \"layer3.4.bn3.weight\", \"layer3.4.bn3.bias\", \"layer3.4.bn3.running_mean\", \"layer3.4.bn3.running_var\", \"layer3.5.conv1.weight\", \"layer3.5.bn1.weight\", \"layer3.5.bn1.bias\", \"layer3.5.bn1.running_mean\", \"layer3.5.bn1.running_var\", \"layer3.5.conv2.weight\", \"layer3.5.bn2.weight\", \"layer3.5.bn2.bias\", \"layer3.5.bn2.running_mean\", \"layer3.5.bn2.running_var\", \"layer3.5.conv3.weight\", \"layer3.5.bn3.weight\", \"layer3.5.bn3.bias\", \"layer3.5.bn3.running_mean\", \"layer3.5.bn3.running_var\", \"layer4.0.conv1.weight\", \"layer4.0.bn1.weight\", \"layer4.0.bn1.bias\", \"layer4.0.bn1.running_mean\", \"layer4.0.bn1.running_var\", \"layer4.0.conv2.weight\", \"layer4.0.bn2.weight\", \"layer4.0.bn2.bias\", \"layer4.0.bn2.running_mean\", \"layer4.0.bn2.running_var\", \"layer4.0.conv3.weight\", \"layer4.0.bn3.weight\", \"layer4.0.bn3.bias\", \"layer4.0.bn3.running_mean\", \"layer4.0.bn3.running_var\", \"layer4.0.downsample.0.weight\", \"layer4.0.downsample.1.weight\", \"layer4.0.downsample.1.bias\", \"layer4.0.downsample.1.running_mean\", \"layer4.0.downsample.1.running_var\", \"layer4.1.conv1.weight\", \"layer4.1.bn1.weight\", \"layer4.1.bn1.bias\", \"layer4.1.bn1.running_mean\", \"layer4.1.bn1.running_var\", \"layer4.1.conv2.weight\", \"layer4.1.bn2.weight\", \"layer4.1.bn2.bias\", \"layer4.1.bn2.running_mean\", \"layer4.1.bn2.running_var\", \"layer4.1.conv3.weight\", \"layer4.1.bn3.weight\", \"layer4.1.bn3.bias\", \"layer4.1.bn3.running_mean\", \"layer4.1.bn3.running_var\", \"layer4.2.conv1.weight\", \"layer4.2.bn1.weight\", \"layer4.2.bn1.bias\", \"layer4.2.bn1.running_mean\", \"layer4.2.bn1.running_var\", \"layer4.2.conv2.weight\", \"layer4.2.bn2.weight\", \"layer4.2.bn2.bias\", \"layer4.2.bn2.running_mean\", \"layer4.2.bn2.running_var\", \"layer4.2.conv3.weight\", \"layer4.2.bn3.weight\", \"layer4.2.bn3.bias\", \"layer4.2.bn3.running_mean\", \"layer4.2.bn3.running_var\", \"fc.weight\", \"fc.bias\". \n",
            "\tUnexpected key(s) in state_dict: \"resnet.conv1.weight\", \"resnet.bn1.weight\", \"resnet.bn1.bias\", \"resnet.bn1.running_mean\", \"resnet.bn1.running_var\", \"resnet.bn1.num_batches_tracked\", \"resnet.layer1.0.conv1.weight\", \"resnet.layer1.0.bn1.weight\", \"resnet.layer1.0.bn1.bias\", \"resnet.layer1.0.bn1.running_mean\", \"resnet.layer1.0.bn1.running_var\", \"resnet.layer1.0.bn1.num_batches_tracked\", \"resnet.layer1.0.conv2.weight\", \"resnet.layer1.0.bn2.weight\", \"resnet.layer1.0.bn2.bias\", \"resnet.layer1.0.bn2.running_mean\", \"resnet.layer1.0.bn2.running_var\", \"resnet.layer1.0.bn2.num_batches_tracked\", \"resnet.layer1.0.conv3.weight\", \"resnet.layer1.0.bn3.weight\", \"resnet.layer1.0.bn3.bias\", \"resnet.layer1.0.bn3.running_mean\", \"resnet.layer1.0.bn3.running_var\", \"resnet.layer1.0.bn3.num_batches_tracked\", \"resnet.layer1.0.downsample.0.weight\", \"resnet.layer1.0.downsample.1.weight\", \"resnet.layer1.0.downsample.1.bias\", \"resnet.layer1.0.downsample.1.running_mean\", \"resnet.layer1.0.downsample.1.running_var\", \"resnet.layer1.0.downsample.1.num_batches_tracked\", \"resnet.layer1.1.conv1.weight\", \"resnet.layer1.1.bn1.weight\", \"resnet.layer1.1.bn1.bias\", \"resnet.layer1.1.bn1.running_mean\", \"resnet.layer1.1.bn1.running_var\", \"resnet.layer1.1.bn1.num_batches_tracked\", \"resnet.layer1.1.conv2.weight\", \"resnet.layer1.1.bn2.weight\", \"resnet.layer1.1.bn2.bias\", \"resnet.layer1.1.bn2.running_mean\", \"resnet.layer1.1.bn2.running_var\", \"resnet.layer1.1.bn2.num_batches_tracked\", \"resnet.layer1.1.conv3.weight\", \"resnet.layer1.1.bn3.weight\", \"resnet.layer1.1.bn3.bias\", \"resnet.layer1.1.bn3.running_mean\", \"resnet.layer1.1.bn3.running_var\", \"resnet.layer1.1.bn3.num_batches_tracked\", \"resnet.layer1.2.conv1.weight\", \"resnet.layer1.2.bn1.weight\", \"resnet.layer1.2.bn1.bias\", \"resnet.layer1.2.bn1.running_mean\", \"resnet.layer1.2.bn1.running_var\", \"resnet.layer1.2.bn1.num_batches_tracked\", \"resnet.layer1.2.conv2.weight\", \"resnet.layer1.2.bn2.weight\", \"resnet.layer1.2.bn2.bias\", \"resnet.layer1.2.bn2.running_mean\", \"resnet.layer1.2.bn2.running_var\", \"resnet.layer1.2.bn2.num_batches_tracked\", \"resnet.layer1.2.conv3.weight\", \"resnet.layer1.2.bn3.weight\", \"resnet.layer1.2.bn3.bias\", \"resnet.layer1.2.bn3.running_mean\", \"resnet.layer1.2.bn3.running_var\", \"resnet.layer1.2.bn3.num_batches_tracked\", \"resnet.layer2.0.conv1.weight\", \"resnet.layer2.0.bn1.weight\", \"resnet.layer2.0.bn1.bias\", \"resnet.layer2.0.bn1.running_mean\", \"resnet.layer2.0.bn1.running_var\", \"resnet.layer2.0.bn1.num_batches_tracked\", \"resnet.layer2.0.conv2.weight\", \"resnet.layer2.0.bn2.weight\", \"resnet.layer2.0.bn2.bias\", \"resnet.layer2.0.bn2.running_mean\", \"resnet.layer2.0.bn2.running_var\", \"resnet.layer2.0.bn2.num_batches_tracked\", \"resnet.layer2.0.conv3.weight\", \"resnet.layer2.0.bn3.weight\", \"resnet.layer2.0.bn3.bias\", \"resnet.layer2.0.bn3.running_mean\", \"resnet.layer2.0.bn3.running_var\", \"resnet.layer2.0.bn3.num_batches_tracked\", \"resnet.layer2.0.downsample.0.weight\", \"resnet.layer2.0.downsample.1.weight\", \"resnet.layer2.0.downsample.1.bias\", \"resnet.layer2.0.downsample.1.running_mean\", \"resnet.layer2.0.downsample.1.running_var\", \"resnet.layer2.0.downsample.1.num_batches_tracked\", \"resnet.layer2.1.conv1.weight\", \"resnet.layer2.1.bn1.weight\", \"resnet.layer2.1.bn1.bias\", \"resnet.layer2.1.bn1.running_mean\", \"resnet.layer2.1.bn1.running_var\", \"resnet.layer2.1.bn1.num_batches_tracked\", \"resnet.layer2.1.conv2.weight\", \"resnet.layer2.1.bn2.weight\", \"resnet.layer2.1.bn2.bias\", \"resnet.layer2.1.bn2.running_mean\", \"resnet.layer2.1.bn2.running_var\", \"resnet.layer2.1.bn2.num_batches_tracked\", \"resnet.layer2.1.conv3.weight\", \"resnet.layer2.1.bn3.weight\", \"resnet.layer2.1.bn3.bias\", \"resnet.layer2.1.bn3.running_mean\", \"resnet.layer2.1.bn3.running_var\", \"resnet.layer2.1.bn3.num_batches_tracked\", \"resnet.layer2.2.conv1.weight\", \"resnet.layer2.2.bn1.weight\", \"resnet.layer2.2.bn1.bias\", \"resnet.layer2.2.bn1.running_mean\", \"resnet.layer2.2.bn1.running_var\", \"resnet.layer2.2.bn1.num_batches_tracked\", \"resnet.layer2.2.conv2.weight\", \"resnet.layer2.2.bn2.weight\", \"resnet.layer2.2.bn2.bias\", \"resnet.layer2.2.bn2.running_mean\", \"resnet.layer2.2.bn2.running_var\", \"resnet.layer2.2.bn2.num_batches_tracked\", \"resnet.layer2.2.conv3.weight\", \"resnet.layer2.2.bn3.weight\", \"resnet.layer2.2.bn3.bias\", \"resnet.layer2.2.bn3.running_mean\", \"resnet.layer2.2.bn3.running_var\", \"resnet.layer2.2.bn3.num_batches_tracked\", \"resnet.layer2.3.conv1.weight\", \"resnet.layer2.3.bn1.weight\", \"resnet.layer2.3.bn1.bias\", \"resnet.layer2.3.bn1.running_mean\", \"resnet.layer2.3.bn1.running_var\", \"resnet.layer2.3.bn1.num_batches_tracked\", \"resnet.layer2.3.conv2.weight\", \"resnet.layer2.3.bn2.weight\", \"resnet.layer2.3.bn2.bias\", \"resnet.layer2.3.bn2.running_mean\", \"resnet.layer2.3.bn2.running_var\", \"resnet.layer2.3.bn2.num_batches_tracked\", \"resnet.layer2.3.conv3.weight\", \"resnet.layer2.3.bn3.weight\", \"resnet.layer2.3.bn3.bias\", \"resnet.layer2.3.bn3.running_mean\", \"resnet.layer2.3.bn3.running_var\", \"resnet.layer2.3.bn3.num_batches_tracked\", \"resnet.layer3.0.conv1.weight\", \"resnet.layer3.0.bn1.weight\", \"resnet.layer3.0.bn1.bias\", \"resnet.layer3.0.bn1.running_mean\", \"resnet.layer3.0.bn1.running_var\", \"resnet.layer3.0.bn1.num_batches_tracked\", \"resnet.layer3.0.conv2.weight\", \"resnet.layer3.0.bn2.weight\", \"resnet.layer3.0.bn2.bias\", \"resnet.layer3.0.bn2.running_mean\", \"resnet.layer3.0.bn2.running_var\", \"resnet.layer3.0.bn2.num_batches_tracked\", \"resnet.layer3.0.conv3.weight\", \"resnet.layer3.0.bn3.weight\", \"resnet.layer3.0.bn3.bias\", \"resnet.layer3.0.bn3.running_mean\", \"resnet.layer3.0.bn3.running_var\", \"resnet.layer3.0.bn3.num_batches_tracked\", \"resnet.layer3.0.downsample.0.weight\", \"resnet.layer3.0.downsample.1.weight\", \"resnet.layer3.0.downsample.1.bias\", \"resnet.layer3.0.downsample.1.running_mean\", \"resnet.layer3.0.downsample.1.running_var\", \"resnet.layer3.0.downsample.1.num_batches_tracked\", \"resnet.layer3.1.conv1.weight\", \"resnet.layer3.1.bn1.weight\", \"resnet.layer3.1.bn1.bias\", \"resnet.layer3.1.bn1.running_mean\", \"resnet.layer3.1.bn1.running_var\", \"resnet.layer3.1.bn1.num_batches_tracked\", \"resnet.layer3.1.conv2.weight\", \"resnet.layer3.1.bn2.weight\", \"resnet.layer3.1.bn2.bias\", \"resnet.layer3.1.bn2.running_mean\", \"resnet.layer3.1.bn2.running_var\", \"resnet.layer3.1.bn2.num_batches_tracked\", \"resnet.layer3.1.conv3.weight\", \"resnet.layer3.1.bn3.weight\", \"resnet.layer3.1.bn3.bias\", \"resnet.layer3.1.bn3.running_mean\", \"resnet.layer3.1.bn3.running_var\", \"resnet.layer3.1.bn3.num_batches_tracked\", \"resnet.layer3.2.conv1.weight\", \"resnet.layer3.2.bn1.weight\", \"resnet.layer3.2.bn1.bias\", \"resnet.layer3.2.bn1.running_mean\", \"resnet.layer3.2.bn1.running_var\", \"resnet.layer3.2.bn1.num_batches_tracked\", \"resnet.layer3.2.conv2.weight\", \"resnet.layer3.2.bn2.weight\", \"resnet.layer3.2.bn2.bias\", \"resnet.layer3.2.bn2.running_mean\", \"resnet.layer3.2.bn2.running_var\", \"resnet.layer3.2.bn2.num_batches_tracked\", \"resnet.layer3.2.conv3.weight\", \"resnet.layer3.2.bn3.weight\", \"resnet.layer3.2.bn3.bias\", \"resnet.layer3.2.bn3.running_mean\", \"resnet.layer3.2.bn3.running_var\", \"resnet.layer3.2.bn3.num_batches_tracked\", \"resnet.layer3.3.conv1.weight\", \"resnet.layer3.3.bn1.weight\", \"resnet.layer3.3.bn1.bias\", \"resnet.layer3.3.bn1.running_mean\", \"resnet.layer3.3.bn1.running_var\", \"resnet.layer3.3.bn1.num_batches_tracked\", \"resnet.layer3.3.conv2.weight\", \"resnet.layer3.3.bn2.weight\", \"resnet.layer3.3.bn2.bias\", \"resnet.layer3.3.bn2.running_mean\", \"resnet.layer3.3.bn2.running_var\", \"resnet.layer3.3.bn2.num_batches_tracked\", \"resnet.layer3.3.conv3.weight\", \"resnet.layer3.3.bn3.weight\", \"resnet.layer3.3.bn3.bias\", \"resnet.layer3.3.bn3.running_mean\", \"resnet.layer3.3.bn3.running_var\", \"resnet.layer3.3.bn3.num_batches_tracked\", \"resnet.layer3.4.conv1.weight\", \"resnet.layer3.4.bn1.weight\", \"resnet.layer3.4.bn1.bias\", \"resnet.layer3.4.bn1.running_mean\", \"resnet.layer3.4.bn1.running_var\", \"resnet.layer3.4.bn1.num_batches_tracked\", \"resnet.layer3.4.conv2.weight\", \"resnet.layer3.4.bn2.weight\", \"resnet.layer3.4.bn2.bias\", \"resnet.layer3.4.bn2.running_mean\", \"resnet.layer3.4.bn2.running_var\", \"resnet.layer3.4.bn2.num_batches_tracked\", \"resnet.layer3.4.conv3.weight\", \"resnet.layer3.4.bn3.weight\", \"resnet.layer3.4.bn3.bias\", \"resnet.layer3.4.bn3.running_mean\", \"resnet.layer3.4.bn3.running_var\", \"resnet.layer3.4.bn3.num_batches_tracked\", \"resnet.layer3.5.conv1.weight\", \"resnet.layer3.5.bn1.weight\", \"resnet.layer3.5.bn1.bias\", \"resnet.layer3.5.bn1.running_mean\", \"resnet.layer3.5.bn1.running_var\", \"resnet.layer3.5.bn1.num_batches_tracked\", \"resnet.layer3.5.conv2.weight\", \"resnet.layer3.5.bn2.weight\", \"resnet.layer3.5.bn2.bias\", \"resnet.layer3.5.bn2.running_mean\", \"resnet.layer3.5.bn2.running_var\", \"resnet.layer3.5.bn2.num_batches_tracked\", \"resnet.layer3.5.conv3.weight\", \"resnet.layer3.5.bn3.weight\", \"resnet.layer3.5.bn3.bias\", \"resnet.layer3.5.bn3.running_mean\", \"resnet.layer3.5.bn3.running_var\", \"resnet.layer3.5.bn3.num_batches_tracked\", \"resnet.layer4.0.conv1.weight\", \"resnet.layer4.0.bn1.weight\", \"resnet.layer4.0.bn1.bias\", \"resnet.layer4.0.bn1.running_mean\", \"resnet.layer4.0.bn1.running_var\", \"resnet.layer4.0.bn1.num_batches_tracked\", \"resnet.layer4.0.conv2.weight\", \"resnet.layer4.0.bn2.weight\", \"resnet.layer4.0.bn2.bias\", \"resnet.layer4.0.bn2.running_mean\", \"resnet.layer4.0.bn2.running_var\", \"resnet.layer4.0.bn2.num_batches_tracked\", \"resnet.layer4.0.conv3.weight\", \"resnet.layer4.0.bn3.weight\", \"resnet.layer4.0.bn3.bias\", \"resnet.layer4.0.bn3.running_mean\", \"resnet.layer4.0.bn3.running_var\", \"resnet.layer4.0.bn3.num_batches_tracked\", \"resnet.layer4.0.downsample.0.weight\", \"resnet.layer4.0.downsample.1.weight\", \"resnet.layer4.0.downsample.1.bias\", \"resnet.layer4.0.downsample.1.running_mean\", \"resnet.layer4.0.downsample.1.running_var\", \"resnet.layer4.0.downsample.1.num_batches_tracked\", \"resnet.layer4.1.conv1.weight\", \"resnet.layer4.1.bn1.weight\", \"resnet.layer4.1.bn1.bias\", \"resnet.layer4.1.bn1.running_mean\", \"resnet.layer4.1.bn1.running_var\", \"resnet.layer4.1.bn1.num_batches_tracked\", \"resnet.layer4.1.conv2.weight\", \"resnet.layer4.1.bn2.weight\", \"resnet.layer4.1.bn2.bias\", \"resnet.layer4.1.bn2.running_mean\", \"resnet.layer4.1.bn2.running_var\", \"resnet.layer4.1.bn2.num_batches_tracked\", \"resnet.layer4.1.conv3.weight\", \"resnet.layer4.1.bn3.weight\", \"resnet.layer4.1.bn3.bias\", \"resnet.layer4.1.bn3.running_mean\", \"resnet.layer4.1.bn3.running_var\", \"resnet.layer4.1.bn3.num_batches_tracked\", \"resnet.layer4.2.conv1.weight\", \"resnet.layer4.2.bn1.weight\", \"resnet.layer4.2.bn1.bias\", \"resnet.layer4.2.bn1.running_mean\", \"resnet.layer4.2.bn1.running_var\", \"resnet.layer4.2.bn1.num_batches_tracked\", \"resnet.layer4.2.conv2.weight\", \"resnet.layer4.2.bn2.weight\", \"resnet.layer4.2.bn2.bias\", \"resnet.layer4.2.bn2.running_mean\", \"resnet.layer4.2.bn2.running_var\", \"resnet.layer4.2.bn2.num_batches_tracked\", \"resnet.layer4.2.conv3.weight\", \"resnet.layer4.2.bn3.weight\", \"resnet.layer4.2.bn3.bias\", \"resnet.layer4.2.bn3.running_mean\", \"resnet.layer4.2.bn3.running_var\", \"resnet.layer4.2.bn3.num_batches_tracked\", \"resnet.fc.weight\", \"resnet.fc.bias\". \n"
          ]
        }
      ]
    }
  ]
}