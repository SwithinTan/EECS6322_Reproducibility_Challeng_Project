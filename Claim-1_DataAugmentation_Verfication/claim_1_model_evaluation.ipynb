{
  "cells": [
    {
      "cell_type": "markdown",
      "metadata": {
        "id": "QXfhPMLc5Ecc"
      },
      "source": [
        "# Download the saved models from pth files\n",
        "# There are 5 models to download\n",
        "- Gaussian blur (Blur): Images from the original dataset have 50% probablity to be blurred.\n",
        "- JPEG-compressing (JPEG): Images from the dataset have 50% probablity to be JPEG-compressed by two image libraries, OpenCV and PIL.\n",
        "- Gaussian blur + JPEG-compreesing (Blur + JPEG (0.5)): Images from the dataset have 50% probability to be blurred and JPEG-compressed. (The two are independent from each other.)\n",
        "- Gaussian blur + JPEG-compressing (Blur + JPEG (0.1)): Images from the dataset have 10% probability to be blurred and JPEG-compressed. (The two are independent from each other.)\n",
        "- No Augmentation (No Aug): As a baseline, I also trained one more model on the images without any augmentation."
      ]
    },
    {
      "cell_type": "code",
      "execution_count": 1,
      "metadata": {
        "colab": {
          "base_uri": "https://localhost:8080/"
        },
        "id": "EqmNcFbFePJb",
        "outputId": "c639e86b-0e1e-46aa-8b88-4f2bbf485012"
      },
      "outputs": [
        {
          "name": "stdout",
          "output_type": "stream",
          "text": [
            "Mounted at /content/drive\n"
          ]
        }
      ],
      "source": [
        "from google.colab import drive\n",
        "drive.mount('/content/drive')\n"
      ]
    },
    {
      "cell_type": "markdown",
      "metadata": {
        "id": "nWonaA0Eg41T"
      },
      "source": [
        "## Download the trained models (weights)"
      ]
    },
    {
      "cell_type": "code",
      "execution_count": 3,
      "metadata": {
        "colab": {
          "base_uri": "https://localhost:8080/"
        },
        "id": "82byzn5F4nbq",
        "outputId": "263eb0b0-2aa2-4e2a-dddb-142ee0706a8e"
      },
      "outputs": [
        {
          "name": "stdout",
          "output_type": "stream",
          "text": [
            "Downloading...\n",
            "From: https://drive.google.com/uc?id=12niIjecRgzIfdC9nFzC1JAAArRZEcKYY\n",
            "To: /content/blur_1class.pth\n",
            "100% 283M/283M [00:07<00:00, 39.5MB/s]\n",
            "Downloading...\n",
            "From: https://drive.google.com/uc?id=1XT5zmm_fax3acDXnV-CHzWKh65rJv1H9\n",
            "To: /content/blur_jpg_0.1_1class.pth\n",
            "100% 283M/283M [00:06<00:00, 46.7MB/s]\n",
            "Downloading...\n",
            "From: https://drive.google.com/uc?id=1ebEkDVyfwbz54QpL3icMcb0P1vOFS3wW\n",
            "To: /content/blur_jpg_0.5_1class.pth\n",
            "100% 283M/283M [00:05<00:00, 56.1MB/s]\n",
            "Downloading...\n",
            "From: https://drive.google.com/uc?id=1LN3R6gK6ea8awFBGRieFM_unA4Mcu1Ql\n",
            "To: /content/jpeg_1class.pth\n",
            "100% 283M/283M [00:05<00:00, 48.8MB/s]\n",
            "Downloading...\n",
            "From: https://drive.google.com/uc?id=1_aQ_rnMe0qOwmjJ3b9c9KBusisPMjdG1\n",
            "To: /content/no_aug_1class.pth\n",
            "100% 283M/283M [00:05<00:00, 52.6MB/s]\n"
          ]
        }
      ],
      "source": [
        "import gdown\n",
        "!gdown 12niIjecRgzIfdC9nFzC1JAAArRZEcKYY\n",
        "!gdown 1XT5zmm_fax3acDXnV-CHzWKh65rJv1H9\n",
        "!gdown 1ebEkDVyfwbz54QpL3icMcb0P1vOFS3wW\n",
        "!gdown 1LN3R6gK6ea8awFBGRieFM_unA4Mcu1Ql\n",
        "!gdown 1_aQ_rnMe0qOwmjJ3b9c9KBusisPMjdG1"
      ]
    },
    {
      "cell_type": "code",
      "execution_count": 4,
      "metadata": {
        "colab": {
          "base_uri": "https://localhost:8080/"
        },
        "id": "CBWcQ-V7gH8H",
        "outputId": "8f68f34b-c299-4dfb-8754-69fa70ad6ecd"
      },
      "outputs": [
        {
          "name": "stdout",
          "output_type": "stream",
          "text": [
            "/content/CNNDetection/weights\n"
          ]
        }
      ],
      "source": [
        "%cd ~/../content/CNNDetection/weights/"
      ]
    },
    {
      "cell_type": "code",
      "execution_count": 5,
      "metadata": {
        "id": "roC5y_4vzkZ4"
      },
      "outputs": [],
      "source": [
        "!cp /content/blur_1class.pth ./\n",
        "!cp /content/blur_jpg_0.1_1class.pth ./\n",
        "!cp /content/blur_jpg_0.5_1class.pth ./\n",
        "!cp /content/jpeg_1class.pth ./\n",
        "!cp /content/no_aug_1class.pth ./"
      ]
    },
    {
      "cell_type": "markdown",
      "metadata": {
        "id": "iWW_Gs7ugo3x"
      },
      "source": [
        "## Download the test dataset"
      ]
    },
    {
      "cell_type": "code",
      "execution_count": 6,
      "metadata": {
        "colab": {
          "base_uri": "https://localhost:8080/"
        },
        "id": "KUC3fPC0gH6D",
        "outputId": "3b76ea56-4b70-4b4e-ad62-388c56d902b7"
      },
      "outputs": [
        {
          "name": "stdout",
          "output_type": "stream",
          "text": [
            "/content/CNNDetection/dataset/test\n"
          ]
        }
      ],
      "source": [
        "%cd ~/../content/CNNDetection/dataset/test/"
      ]
    },
    {
      "cell_type": "code",
      "execution_count": 7,
      "metadata": {
        "id": "tVnnkdy4gruj"
      },
      "outputs": [],
      "source": [
        "# !gdown 1z_fD3UKgWQyOTZIBbYSaQ-hz4AzUrLC1\n",
        "!cp /content/drive/MyDrive/EECS6322/validation_datasets/CNN_synth_testset.zip ./CNN_synth_testset.zip"
      ]
    },
    {
      "cell_type": "code",
      "execution_count": null,
      "metadata": {
        "id": "VfGra9KJiEJ3"
      },
      "outputs": [],
      "source": [
        "%cd /content/CNNDetection/dataset/test\n",
        "!unzip ./CNN_synth_testset.zip -d ./"
      ]
    },
    {
      "cell_type": "markdown",
      "metadata": {
        "id": "0GxRp7bjkumT"
      },
      "source": [
        "# Run Evaluation program"
      ]
    },
    {
      "cell_type": "code",
      "execution_count": 21,
      "metadata": {
        "colab": {
          "base_uri": "https://localhost:8080/"
        },
        "id": "FtOwy7ZaJ1Us",
        "outputId": "2589dc4c-2afa-4862-b022-e847b9a1ffb3"
      },
      "outputs": [
        {
          "name": "stdout",
          "output_type": "stream",
          "text": [
            "/content/CNNDetection\n",
            "no_aug_1class model testing on...\n",
            "/usr/local/lib/python3.9/dist-packages/torch/utils/data/dataloader.py:561: UserWarning: This DataLoader will create 4 worker processes in total. Our suggested max number of worker in current system is 2, which is smaller than what this DataLoader is going to create. Please be aware that excessive worker creation might get DataLoader running slow or even freeze, lower the worker number to avoid potential slowness/freeze if necessary.\n",
            "  warnings.warn(_create_warning_msg(\n",
            "(progan) acc: 0.950375; ap: 0.9963353789855565\n",
            "/usr/local/lib/python3.9/dist-packages/torch/utils/data/dataloader.py:561: UserWarning: This DataLoader will create 4 worker processes in total. Our suggested max number of worker in current system is 2, which is smaller than what this DataLoader is going to create. Please be aware that excessive worker creation might get DataLoader running slow or even freeze, lower the worker number to avoid potential slowness/freeze if necessary.\n",
            "  warnings.warn(_create_warning_msg(\n",
            "(stylegan) acc: 0.7053914204640294; ap: 0.9536072637672519\n",
            "/usr/local/lib/python3.9/dist-packages/torch/utils/data/dataloader.py:561: UserWarning: This DataLoader will create 4 worker processes in total. Our suggested max number of worker in current system is 2, which is smaller than what this DataLoader is going to create. Please be aware that excessive worker creation might get DataLoader running slow or even freeze, lower the worker number to avoid potential slowness/freeze if necessary.\n",
            "  warnings.warn(_create_warning_msg(\n",
            "(biggan) acc: 0.5875; ap: 0.7243253600606878\n",
            "/usr/local/lib/python3.9/dist-packages/torch/utils/data/dataloader.py:561: UserWarning: This DataLoader will create 4 worker processes in total. Our suggested max number of worker in current system is 2, which is smaller than what this DataLoader is going to create. Please be aware that excessive worker creation might get DataLoader running slow or even freeze, lower the worker number to avoid potential slowness/freeze if necessary.\n",
            "  warnings.warn(_create_warning_msg(\n",
            "(cyclegan) acc: 0.6937925813777441; ap: 0.8099999360549384\n",
            "/usr/local/lib/python3.9/dist-packages/torch/utils/data/dataloader.py:561: UserWarning: This DataLoader will create 4 worker processes in total. Our suggested max number of worker in current system is 2, which is smaller than what this DataLoader is going to create. Please be aware that excessive worker creation might get DataLoader running slow or even freeze, lower the worker number to avoid potential slowness/freeze if necessary.\n",
            "  warnings.warn(_create_warning_msg(\n",
            "(stargan) acc: 0.8231615807903953; ap: 0.9855824952463133\n",
            "/usr/local/lib/python3.9/dist-packages/torch/utils/data/dataloader.py:561: UserWarning: This DataLoader will create 4 worker processes in total. Our suggested max number of worker in current system is 2, which is smaller than what this DataLoader is going to create. Please be aware that excessive worker creation might get DataLoader running slow or even freeze, lower the worker number to avoid potential slowness/freeze if necessary.\n",
            "  warnings.warn(_create_warning_msg(\n",
            "(gaugan) acc: 0.5982; ap: 0.7501473913234471\n",
            "/usr/local/lib/python3.9/dist-packages/torch/utils/data/dataloader.py:561: UserWarning: This DataLoader will create 4 worker processes in total. Our suggested max number of worker in current system is 2, which is smaller than what this DataLoader is going to create. Please be aware that excessive worker creation might get DataLoader running slow or even freeze, lower the worker number to avoid potential slowness/freeze if necessary.\n",
            "  warnings.warn(_create_warning_msg(\n",
            "(crn) acc: 0.9738326543403322; ap: 0.9970182396752019\n",
            "/usr/local/lib/python3.9/dist-packages/torch/utils/data/dataloader.py:561: UserWarning: This DataLoader will create 4 worker processes in total. Our suggested max number of worker in current system is 2, which is smaller than what this DataLoader is going to create. Please be aware that excessive worker creation might get DataLoader running slow or even freeze, lower the worker number to avoid potential slowness/freeze if necessary.\n",
            "  warnings.warn(_create_warning_msg(\n",
            "(imle) acc: 0.827875274208712; ap: 0.9690621986683006\n",
            "/usr/local/lib/python3.9/dist-packages/torch/utils/data/dataloader.py:561: UserWarning: This DataLoader will create 4 worker processes in total. Our suggested max number of worker in current system is 2, which is smaller than what this DataLoader is going to create. Please be aware that excessive worker creation might get DataLoader running slow or even freeze, lower the worker number to avoid potential slowness/freeze if necessary.\n",
            "  warnings.warn(_create_warning_msg(\n",
            "(seeingdark) acc: 0.6833333333333333; ap: 0.9052079268228355\n",
            "/usr/local/lib/python3.9/dist-packages/torch/utils/data/dataloader.py:561: UserWarning: This DataLoader will create 4 worker processes in total. Our suggested max number of worker in current system is 2, which is smaller than what this DataLoader is going to create. Please be aware that excessive worker creation might get DataLoader running slow or even freeze, lower the worker number to avoid potential slowness/freeze if necessary.\n",
            "  warnings.warn(_create_warning_msg(\n",
            "(san) acc: 0.6095890410958904; ap: 0.7938996709922866\n",
            "/usr/local/lib/python3.9/dist-packages/torch/utils/data/dataloader.py:561: UserWarning: This DataLoader will create 4 worker processes in total. Our suggested max number of worker in current system is 2, which is smaller than what this DataLoader is going to create. Please be aware that excessive worker creation might get DataLoader running slow or even freeze, lower the worker number to avoid potential slowness/freeze if necessary.\n",
            "  warnings.warn(_create_warning_msg(\n",
            "(deepfake) acc: 0.5768732654949121; ap: 0.9596584557597259\n",
            "/usr/local/lib/python3.9/dist-packages/torch/utils/data/dataloader.py:561: UserWarning: This DataLoader will create 4 worker processes in total. Our suggested max number of worker in current system is 2, which is smaller than what this DataLoader is going to create. Please be aware that excessive worker creation might get DataLoader running slow or even freeze, lower the worker number to avoid potential slowness/freeze if necessary.\n",
            "  warnings.warn(_create_warning_msg(\n",
            "(stylegan2) acc: 0.6371432148222334; ap: 0.9172850197191567\n",
            "/usr/local/lib/python3.9/dist-packages/torch/utils/data/dataloader.py:561: UserWarning: This DataLoader will create 4 worker processes in total. Our suggested max number of worker in current system is 2, which is smaller than what this DataLoader is going to create. Please be aware that excessive worker creation might get DataLoader running slow or even freeze, lower the worker number to avoid potential slowness/freeze if necessary.\n",
            "  warnings.warn(_create_warning_msg(\n",
            "(whichfaceisreal) acc: 0.598; ap: 0.6885024387071823\n"
          ]
        }
      ],
      "source": [
        "%cd ~/../content/CNNDetection/\n",
        "!python eval.py"
      ]
    }
  ],
  "metadata": {
    "accelerator": "GPU",
    "colab": {
      "provenance": []
    },
    "gpuClass": "standard",
    "kernelspec": {
      "display_name": "Python 3",
      "name": "python3"
    },
    "language_info": {
      "name": "python"
    }
  },
  "nbformat": 4,
  "nbformat_minor": 0
}
