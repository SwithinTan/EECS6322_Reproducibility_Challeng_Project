{
  "nbformat": 4,
  "nbformat_minor": 0,
  "metadata": {
    "colab": {
      "provenance": []
    },
    "kernelspec": {
      "name": "python3",
      "display_name": "Python 3"
    },
    "language_info": {
      "name": "python"
    },
    "accelerator": "GPU",
    "gpuClass": "standard"
  },
  "cells": [
    {
      "cell_type": "markdown",
      "source": [
        "# Download the saved models from pth files\n",
        "# There are 5 models to download\n",
        "- Gaussian blur (Blur): Images from the original dataset have 50% probablity to be blurred.\n",
        "- JPEG-compressing (JPEG): Images from the dataset have 50% probablity to be JPEG-compressed by two image libraries, OpenCV and PIL.\n",
        "- Gaussian blur + JPEG-compreesing (Blur + JPEG (0.5)): Images from the dataset have 50% probability to be blurred and JPEG-compressed. (The two are independent from each other.)\n",
        "- Gaussian blur + JPEG-compressing (Blur + JPEG (0.1)): Images from the dataset have 10% probability to be blurred and JPEG-compressed. (The two are independent from each other.)\n",
        "- No Augmentation (No Aug): As a baseline, I also trained one more model on the images without any augmentation."
      ],
      "metadata": {
        "id": "QXfhPMLc5Ecc"
      }
    },
    {
      "cell_type": "code",
      "source": [
        "from google.colab import drive\n",
        "drive.mount('/content/drive')\n"
      ],
      "metadata": {
        "id": "EqmNcFbFePJb",
        "colab": {
          "base_uri": "https://localhost:8080/"
        },
        "outputId": "c639e86b-0e1e-46aa-8b88-4f2bbf485012"
      },
      "execution_count": 1,
      "outputs": [
        {
          "output_type": "stream",
          "name": "stdout",
          "text": [
            "Mounted at /content/drive\n"
          ]
        }
      ]
    },
    {
      "cell_type": "code",
      "source": [
        "!git clone https://github.com/PeterWang512/CNNDetection.git"
      ],
      "metadata": {
        "id": "MYDdn_PEdgEN",
        "colab": {
          "base_uri": "https://localhost:8080/"
        },
        "outputId": "bcd87228-b8f7-4511-869e-3ddce4164a76"
      },
      "execution_count": 2,
      "outputs": [
        {
          "output_type": "stream",
          "name": "stdout",
          "text": [
            "Cloning into 'CNNDetection'...\n",
            "remote: Enumerating objects: 632, done.\u001b[K\n",
            "remote: Counting objects: 100% (28/28), done.\u001b[K\n",
            "remote: Compressing objects: 100% (3/3), done.\u001b[K\n",
            "remote: Total 632 (delta 25), reused 25 (delta 25), pack-reused 604\u001b[K\n",
            "Receiving objects: 100% (632/632), 6.36 MiB | 18.61 MiB/s, done.\n",
            "Resolving deltas: 100% (100/100), done.\n"
          ]
        }
      ]
    },
    {
      "cell_type": "markdown",
      "source": [
        "## Download the trained models (weights)"
      ],
      "metadata": {
        "id": "nWonaA0Eg41T"
      }
    },
    {
      "cell_type": "code",
      "execution_count": 3,
      "metadata": {
        "id": "82byzn5F4nbq",
        "colab": {
          "base_uri": "https://localhost:8080/"
        },
        "outputId": "263eb0b0-2aa2-4e2a-dddb-142ee0706a8e"
      },
      "outputs": [
        {
          "output_type": "stream",
          "name": "stdout",
          "text": [
            "Downloading...\n",
            "From: https://drive.google.com/uc?id=12niIjecRgzIfdC9nFzC1JAAArRZEcKYY\n",
            "To: /content/blur_1class.pth\n",
            "100% 283M/283M [00:07<00:00, 39.5MB/s]\n",
            "Downloading...\n",
            "From: https://drive.google.com/uc?id=1XT5zmm_fax3acDXnV-CHzWKh65rJv1H9\n",
            "To: /content/blur_jpg_0.1_1class.pth\n",
            "100% 283M/283M [00:06<00:00, 46.7MB/s]\n",
            "Downloading...\n",
            "From: https://drive.google.com/uc?id=1ebEkDVyfwbz54QpL3icMcb0P1vOFS3wW\n",
            "To: /content/blur_jpg_0.5_1class.pth\n",
            "100% 283M/283M [00:05<00:00, 56.1MB/s]\n",
            "Downloading...\n",
            "From: https://drive.google.com/uc?id=1LN3R6gK6ea8awFBGRieFM_unA4Mcu1Ql\n",
            "To: /content/jpeg_1class.pth\n",
            "100% 283M/283M [00:05<00:00, 48.8MB/s]\n",
            "Downloading...\n",
            "From: https://drive.google.com/uc?id=1_aQ_rnMe0qOwmjJ3b9c9KBusisPMjdG1\n",
            "To: /content/no_aug_1class.pth\n",
            "100% 283M/283M [00:05<00:00, 52.6MB/s]\n"
          ]
        }
      ],
      "source": [
        "import gdown\n",
        "!gdown 12niIjecRgzIfdC9nFzC1JAAArRZEcKYY\n",
        "!gdown 1XT5zmm_fax3acDXnV-CHzWKh65rJv1H9\n",
        "!gdown 1ebEkDVyfwbz54QpL3icMcb0P1vOFS3wW\n",
        "!gdown 1LN3R6gK6ea8awFBGRieFM_unA4Mcu1Ql\n",
        "!gdown 1_aQ_rnMe0qOwmjJ3b9c9KBusisPMjdG1"
      ]
    },
    {
      "cell_type": "code",
      "source": [
        "%cd ~/../content/CNNDetection/weights/"
      ],
      "metadata": {
        "colab": {
          "base_uri": "https://localhost:8080/"
        },
        "id": "CBWcQ-V7gH8H",
        "outputId": "8f68f34b-c299-4dfb-8754-69fa70ad6ecd"
      },
      "execution_count": 4,
      "outputs": [
        {
          "output_type": "stream",
          "name": "stdout",
          "text": [
            "/content/CNNDetection/weights\n"
          ]
        }
      ]
    },
    {
      "cell_type": "code",
      "source": [
        "!cp /content/blur_1class.pth ./\n",
        "!cp /content/blur_jpg_0.1_1class.pth ./\n",
        "!cp /content/blur_jpg_0.5_1class.pth ./\n",
        "!cp /content/jpeg_1class.pth ./\n",
        "!cp /content/no_aug_1class.pth ./"
      ],
      "metadata": {
        "id": "roC5y_4vzkZ4"
      },
      "execution_count": 5,
      "outputs": []
    },
    {
      "cell_type": "markdown",
      "source": [
        "## Download the test dataset"
      ],
      "metadata": {
        "id": "iWW_Gs7ugo3x"
      }
    },
    {
      "cell_type": "code",
      "source": [
        "%cd ~/../content/CNNDetection/dataset/test/"
      ],
      "metadata": {
        "colab": {
          "base_uri": "https://localhost:8080/"
        },
        "id": "KUC3fPC0gH6D",
        "outputId": "3b76ea56-4b70-4b4e-ad62-388c56d902b7"
      },
      "execution_count": 6,
      "outputs": [
        {
          "output_type": "stream",
          "name": "stdout",
          "text": [
            "/content/CNNDetection/dataset/test\n"
          ]
        }
      ]
    },
    {
      "cell_type": "code",
      "source": [
        "# !gdown 1z_fD3UKgWQyOTZIBbYSaQ-hz4AzUrLC1\n",
        "!cp /content/drive/MyDrive/EECS6322/validation_datasets/CNN_synth_testset.zip ./CNN_synth_testset.zip"
      ],
      "metadata": {
        "id": "tVnnkdy4gruj"
      },
      "execution_count": 7,
      "outputs": []
    },
    {
      "cell_type": "code",
      "source": [
        "%cd /content/CNNDetection/dataset/test\n",
        "!unzip ./CNN_synth_testset.zip -d ./"
      ],
      "metadata": {
        "id": "VfGra9KJiEJ3"
      },
      "execution_count": null,
      "outputs": []
    },
    {
      "cell_type": "markdown",
      "source": [
        "# Run Evaluation program"
      ],
      "metadata": {
        "id": "0GxRp7bjkumT"
      }
    },
    {
      "cell_type": "code",
      "source": [
        "%cd ~/../content/CNNDetection/\n",
        "!python eval.py"
      ],
      "metadata": {
        "colab": {
          "base_uri": "https://localhost:8080/"
        },
        "id": "FtOwy7ZaJ1Us",
        "outputId": "2589dc4c-2afa-4862-b022-e847b9a1ffb3"
      },
      "execution_count": 21,
      "outputs": [
        {
          "output_type": "stream",
          "name": "stdout",
          "text": [
            "/content/CNNDetection\n",
            "no_aug_1class model testing on...\n",
            "/usr/local/lib/python3.9/dist-packages/torch/utils/data/dataloader.py:561: UserWarning: This DataLoader will create 4 worker processes in total. Our suggested max number of worker in current system is 2, which is smaller than what this DataLoader is going to create. Please be aware that excessive worker creation might get DataLoader running slow or even freeze, lower the worker number to avoid potential slowness/freeze if necessary.\n",
            "  warnings.warn(_create_warning_msg(\n",
            "(progan) acc: 0.950375; ap: 0.9963353789855565\n",
            "/usr/local/lib/python3.9/dist-packages/torch/utils/data/dataloader.py:561: UserWarning: This DataLoader will create 4 worker processes in total. Our suggested max number of worker in current system is 2, which is smaller than what this DataLoader is going to create. Please be aware that excessive worker creation might get DataLoader running slow or even freeze, lower the worker number to avoid potential slowness/freeze if necessary.\n",
            "  warnings.warn(_create_warning_msg(\n",
            "(stylegan) acc: 0.7053914204640294; ap: 0.9536072637672519\n",
            "/usr/local/lib/python3.9/dist-packages/torch/utils/data/dataloader.py:561: UserWarning: This DataLoader will create 4 worker processes in total. Our suggested max number of worker in current system is 2, which is smaller than what this DataLoader is going to create. Please be aware that excessive worker creation might get DataLoader running slow or even freeze, lower the worker number to avoid potential slowness/freeze if necessary.\n",
            "  warnings.warn(_create_warning_msg(\n",
            "(biggan) acc: 0.5875; ap: 0.7243253600606878\n",
            "/usr/local/lib/python3.9/dist-packages/torch/utils/data/dataloader.py:561: UserWarning: This DataLoader will create 4 worker processes in total. Our suggested max number of worker in current system is 2, which is smaller than what this DataLoader is going to create. Please be aware that excessive worker creation might get DataLoader running slow or even freeze, lower the worker number to avoid potential slowness/freeze if necessary.\n",
            "  warnings.warn(_create_warning_msg(\n",
            "(cyclegan) acc: 0.6937925813777441; ap: 0.8099999360549384\n",
            "/usr/local/lib/python3.9/dist-packages/torch/utils/data/dataloader.py:561: UserWarning: This DataLoader will create 4 worker processes in total. Our suggested max number of worker in current system is 2, which is smaller than what this DataLoader is going to create. Please be aware that excessive worker creation might get DataLoader running slow or even freeze, lower the worker number to avoid potential slowness/freeze if necessary.\n",
            "  warnings.warn(_create_warning_msg(\n",
            "(stargan) acc: 0.8231615807903953; ap: 0.9855824952463133\n",
            "/usr/local/lib/python3.9/dist-packages/torch/utils/data/dataloader.py:561: UserWarning: This DataLoader will create 4 worker processes in total. Our suggested max number of worker in current system is 2, which is smaller than what this DataLoader is going to create. Please be aware that excessive worker creation might get DataLoader running slow or even freeze, lower the worker number to avoid potential slowness/freeze if necessary.\n",
            "  warnings.warn(_create_warning_msg(\n",
            "(gaugan) acc: 0.5982; ap: 0.7501473913234471\n",
            "/usr/local/lib/python3.9/dist-packages/torch/utils/data/dataloader.py:561: UserWarning: This DataLoader will create 4 worker processes in total. Our suggested max number of worker in current system is 2, which is smaller than what this DataLoader is going to create. Please be aware that excessive worker creation might get DataLoader running slow or even freeze, lower the worker number to avoid potential slowness/freeze if necessary.\n",
            "  warnings.warn(_create_warning_msg(\n",
            "(crn) acc: 0.9738326543403322; ap: 0.9970182396752019\n",
            "/usr/local/lib/python3.9/dist-packages/torch/utils/data/dataloader.py:561: UserWarning: This DataLoader will create 4 worker processes in total. Our suggested max number of worker in current system is 2, which is smaller than what this DataLoader is going to create. Please be aware that excessive worker creation might get DataLoader running slow or even freeze, lower the worker number to avoid potential slowness/freeze if necessary.\n",
            "  warnings.warn(_create_warning_msg(\n",
            "(imle) acc: 0.827875274208712; ap: 0.9690621986683006\n",
            "/usr/local/lib/python3.9/dist-packages/torch/utils/data/dataloader.py:561: UserWarning: This DataLoader will create 4 worker processes in total. Our suggested max number of worker in current system is 2, which is smaller than what this DataLoader is going to create. Please be aware that excessive worker creation might get DataLoader running slow or even freeze, lower the worker number to avoid potential slowness/freeze if necessary.\n",
            "  warnings.warn(_create_warning_msg(\n",
            "(seeingdark) acc: 0.6833333333333333; ap: 0.9052079268228355\n",
            "/usr/local/lib/python3.9/dist-packages/torch/utils/data/dataloader.py:561: UserWarning: This DataLoader will create 4 worker processes in total. Our suggested max number of worker in current system is 2, which is smaller than what this DataLoader is going to create. Please be aware that excessive worker creation might get DataLoader running slow or even freeze, lower the worker number to avoid potential slowness/freeze if necessary.\n",
            "  warnings.warn(_create_warning_msg(\n",
            "(san) acc: 0.6095890410958904; ap: 0.7938996709922866\n",
            "/usr/local/lib/python3.9/dist-packages/torch/utils/data/dataloader.py:561: UserWarning: This DataLoader will create 4 worker processes in total. Our suggested max number of worker in current system is 2, which is smaller than what this DataLoader is going to create. Please be aware that excessive worker creation might get DataLoader running slow or even freeze, lower the worker number to avoid potential slowness/freeze if necessary.\n",
            "  warnings.warn(_create_warning_msg(\n",
            "(deepfake) acc: 0.5768732654949121; ap: 0.9596584557597259\n",
            "/usr/local/lib/python3.9/dist-packages/torch/utils/data/dataloader.py:561: UserWarning: This DataLoader will create 4 worker processes in total. Our suggested max number of worker in current system is 2, which is smaller than what this DataLoader is going to create. Please be aware that excessive worker creation might get DataLoader running slow or even freeze, lower the worker number to avoid potential slowness/freeze if necessary.\n",
            "  warnings.warn(_create_warning_msg(\n",
            "(stylegan2) acc: 0.6371432148222334; ap: 0.9172850197191567\n",
            "/usr/local/lib/python3.9/dist-packages/torch/utils/data/dataloader.py:561: UserWarning: This DataLoader will create 4 worker processes in total. Our suggested max number of worker in current system is 2, which is smaller than what this DataLoader is going to create. Please be aware that excessive worker creation might get DataLoader running slow or even freeze, lower the worker number to avoid potential slowness/freeze if necessary.\n",
            "  warnings.warn(_create_warning_msg(\n",
            "(whichfaceisreal) acc: 0.598; ap: 0.6885024387071823\n"
          ]
        }
      ]
    }
  ]
}